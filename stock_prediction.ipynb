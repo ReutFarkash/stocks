{
  "nbformat": 4,
  "nbformat_minor": 0,
  "metadata": {
    "colab": {
      "name": "stock_prediction.ipynb",
      "provenance": [],
      "authorship_tag": "ABX9TyN0vW8dqcWPWIq7GqNs/U54",
      "include_colab_link": true
    },
    "kernelspec": {
      "name": "python3",
      "display_name": "Python 3"
    },
    "accelerator": "GPU"
  },
  "cells": [
    {
      "cell_type": "markdown",
      "metadata": {
        "id": "view-in-github",
        "colab_type": "text"
      },
      "source": [
        "<a href=\"https://colab.research.google.com/github/ReutFarkash/stocks/blob/master/stock_prediction.ipynb\" target=\"_parent\"><img src=\"https://colab.research.google.com/assets/colab-badge.svg\" alt=\"Open In Colab\"/></a>"
      ]
    },
    {
      "cell_type": "markdown",
      "metadata": {
        "id": "zhUGa2ImH-FP",
        "colab_type": "text"
      },
      "source": [
        "https://www.thepythoncode.com/article/stock-price-prediction-in-python-using-tensorflow-2-and-keras\n",
        "How to Predict Stock Prices in Python using TensorFlow 2 and Keras\n",
        "Predicting different stock prices using Long Short-Term Memory Recurrent Neural Network in Python using TensorFlow 2 and Keras."
      ]
    },
    {
      "cell_type": "code",
      "metadata": {
        "id": "rgC3L4tXHsZ6",
        "colab_type": "code",
        "colab": {
          "base_uri": "https://localhost:8080/",
          "height": 1000
        },
        "outputId": "e393ba59-1137-4a53-b2c1-539415b5dc2d"
      },
      "source": [
        "!pip3 install tensorflow pandas numpy matplotlib yahoo_fin sklearn requests_html"
      ],
      "execution_count": 1,
      "outputs": [
        {
          "output_type": "stream",
          "text": [
            "Requirement already satisfied: tensorflow in /usr/local/lib/python3.6/dist-packages (2.3.0)\n",
            "Requirement already satisfied: pandas in /usr/local/lib/python3.6/dist-packages (1.0.5)\n",
            "Requirement already satisfied: numpy in /usr/local/lib/python3.6/dist-packages (1.18.5)\n",
            "Requirement already satisfied: matplotlib in /usr/local/lib/python3.6/dist-packages (3.2.2)\n",
            "Collecting yahoo_fin\n",
            "  Downloading https://files.pythonhosted.org/packages/d3/5c/6bf0c0147cc94d643e2a2413d0a9b27967e964ee99f88f26db93a0b963b8/yahoo_fin-0.8.6-py3-none-any.whl\n",
            "Requirement already satisfied: sklearn in /usr/local/lib/python3.6/dist-packages (0.0)\n",
            "Collecting requests_html\n",
            "  Downloading https://files.pythonhosted.org/packages/24/bc/a4380f09bab3a776182578ce6b2771e57259d0d4dbce178205779abdc347/requests_html-0.10.0-py3-none-any.whl\n",
            "Requirement already satisfied: scipy==1.4.1 in /usr/local/lib/python3.6/dist-packages (from tensorflow) (1.4.1)\n",
            "Requirement already satisfied: protobuf>=3.9.2 in /usr/local/lib/python3.6/dist-packages (from tensorflow) (3.12.4)\n",
            "Requirement already satisfied: tensorboard<3,>=2.3.0 in /usr/local/lib/python3.6/dist-packages (from tensorflow) (2.3.0)\n",
            "Requirement already satisfied: wheel>=0.26 in /usr/local/lib/python3.6/dist-packages (from tensorflow) (0.35.1)\n",
            "Requirement already satisfied: astunparse==1.6.3 in /usr/local/lib/python3.6/dist-packages (from tensorflow) (1.6.3)\n",
            "Requirement already satisfied: grpcio>=1.8.6 in /usr/local/lib/python3.6/dist-packages (from tensorflow) (1.31.0)\n",
            "Requirement already satisfied: tensorflow-estimator<2.4.0,>=2.3.0 in /usr/local/lib/python3.6/dist-packages (from tensorflow) (2.3.0)\n",
            "Requirement already satisfied: opt-einsum>=2.3.2 in /usr/local/lib/python3.6/dist-packages (from tensorflow) (3.3.0)\n",
            "Requirement already satisfied: six>=1.12.0 in /usr/local/lib/python3.6/dist-packages (from tensorflow) (1.15.0)\n",
            "Requirement already satisfied: keras-preprocessing<1.2,>=1.1.1 in /usr/local/lib/python3.6/dist-packages (from tensorflow) (1.1.2)\n",
            "Requirement already satisfied: wrapt>=1.11.1 in /usr/local/lib/python3.6/dist-packages (from tensorflow) (1.12.1)\n",
            "Requirement already satisfied: gast==0.3.3 in /usr/local/lib/python3.6/dist-packages (from tensorflow) (0.3.3)\n",
            "Requirement already satisfied: google-pasta>=0.1.8 in /usr/local/lib/python3.6/dist-packages (from tensorflow) (0.2.0)\n",
            "Requirement already satisfied: h5py<2.11.0,>=2.10.0 in /usr/local/lib/python3.6/dist-packages (from tensorflow) (2.10.0)\n",
            "Requirement already satisfied: termcolor>=1.1.0 in /usr/local/lib/python3.6/dist-packages (from tensorflow) (1.1.0)\n",
            "Requirement already satisfied: absl-py>=0.7.0 in /usr/local/lib/python3.6/dist-packages (from tensorflow) (0.8.1)\n",
            "Requirement already satisfied: pytz>=2017.2 in /usr/local/lib/python3.6/dist-packages (from pandas) (2018.9)\n",
            "Requirement already satisfied: python-dateutil>=2.6.1 in /usr/local/lib/python3.6/dist-packages (from pandas) (2.8.1)\n",
            "Requirement already satisfied: kiwisolver>=1.0.1 in /usr/local/lib/python3.6/dist-packages (from matplotlib) (1.2.0)\n",
            "Requirement already satisfied: cycler>=0.10 in /usr/local/lib/python3.6/dist-packages (from matplotlib) (0.10.0)\n",
            "Requirement already satisfied: pyparsing!=2.0.4,!=2.1.2,!=2.1.6,>=2.0.1 in /usr/local/lib/python3.6/dist-packages (from matplotlib) (2.4.7)\n",
            "Requirement already satisfied: scikit-learn in /usr/local/lib/python3.6/dist-packages (from sklearn) (0.22.2.post1)\n",
            "Collecting pyppeteer>=0.0.14\n",
            "\u001b[?25l  Downloading https://files.pythonhosted.org/packages/5d/4b/3c2aabdd1b91fa52aa9de6cde33b488b0592b4d48efb0ad9efbf71c49f5b/pyppeteer-0.2.2-py3-none-any.whl (145kB)\n",
            "\u001b[K     |████████████████████████████████| 153kB 4.0MB/s \n",
            "\u001b[?25hRequirement already satisfied: bs4 in /usr/local/lib/python3.6/dist-packages (from requests_html) (0.0.1)\n",
            "Requirement already satisfied: requests in /usr/local/lib/python3.6/dist-packages (from requests_html) (2.23.0)\n",
            "Collecting w3lib\n",
            "  Downloading https://files.pythonhosted.org/packages/a3/59/b6b14521090e7f42669cafdb84b0ab89301a42f1f1a82fcf5856661ea3a7/w3lib-1.22.0-py2.py3-none-any.whl\n",
            "Collecting parse\n",
            "  Downloading https://files.pythonhosted.org/packages/23/ea/ba7f9a5d728f7c45b298ae007b06908a5909eb5693a559ee5d70e7f84f92/parse-1.17.0.tar.gz\n",
            "Collecting fake-useragent\n",
            "  Downloading https://files.pythonhosted.org/packages/d1/79/af647635d6968e2deb57a208d309f6069d31cb138066d7e821e575112a80/fake-useragent-0.1.11.tar.gz\n",
            "Collecting pyquery\n",
            "  Downloading https://files.pythonhosted.org/packages/78/43/95d42e386c61cb639d1a0b94f0c0b9f0b7d6b981ad3c043a836c8b5bc68b/pyquery-1.4.1-py2.py3-none-any.whl\n",
            "Requirement already satisfied: setuptools in /usr/local/lib/python3.6/dist-packages (from protobuf>=3.9.2->tensorflow) (49.6.0)\n",
            "Requirement already satisfied: tensorboard-plugin-wit>=1.6.0 in /usr/local/lib/python3.6/dist-packages (from tensorboard<3,>=2.3.0->tensorflow) (1.7.0)\n",
            "Requirement already satisfied: google-auth-oauthlib<0.5,>=0.4.1 in /usr/local/lib/python3.6/dist-packages (from tensorboard<3,>=2.3.0->tensorflow) (0.4.1)\n",
            "Requirement already satisfied: werkzeug>=0.11.15 in /usr/local/lib/python3.6/dist-packages (from tensorboard<3,>=2.3.0->tensorflow) (1.0.1)\n",
            "Requirement already satisfied: google-auth<2,>=1.6.3 in /usr/local/lib/python3.6/dist-packages (from tensorboard<3,>=2.3.0->tensorflow) (1.17.2)\n",
            "Requirement already satisfied: markdown>=2.6.8 in /usr/local/lib/python3.6/dist-packages (from tensorboard<3,>=2.3.0->tensorflow) (3.2.2)\n",
            "Requirement already satisfied: joblib>=0.11 in /usr/local/lib/python3.6/dist-packages (from scikit-learn->sklearn) (0.16.0)\n",
            "Collecting pyee<8.0.0,>=7.0.1\n",
            "  Downloading https://files.pythonhosted.org/packages/41/79/3ec03b964c6e787ede1c34f29e5ead3f440965696ae0b3b0667f617deb75/pyee-7.0.3-py2.py3-none-any.whl\n",
            "Collecting tqdm<5.0.0,>=4.42.1\n",
            "\u001b[?25l  Downloading https://files.pythonhosted.org/packages/28/7e/281edb5bc3274dfb894d90f4dbacfceaca381c2435ec6187a2c6f329aed7/tqdm-4.48.2-py2.py3-none-any.whl (68kB)\n",
            "\u001b[K     |████████████████████████████████| 71kB 4.7MB/s \n",
            "\u001b[?25hCollecting appdirs<2.0.0,>=1.4.3\n",
            "  Downloading https://files.pythonhosted.org/packages/3b/00/2344469e2084fb287c2e0b57b72910309874c3245463acd6cf5e3db69324/appdirs-1.4.4-py2.py3-none-any.whl\n",
            "Collecting websockets<9.0,>=8.1\n",
            "\u001b[?25l  Downloading https://files.pythonhosted.org/packages/bb/d9/856af84843912e2853b1b6e898ac8b802989fcf9ecf8e8445a1da263bf3b/websockets-8.1-cp36-cp36m-manylinux2010_x86_64.whl (78kB)\n",
            "\u001b[K     |████████████████████████████████| 81kB 4.2MB/s \n",
            "\u001b[?25hCollecting urllib3<2.0.0,>=1.25.8\n",
            "\u001b[?25l  Downloading https://files.pythonhosted.org/packages/9f/f0/a391d1463ebb1b233795cabfc0ef38d3db4442339de68f847026199e69d7/urllib3-1.25.10-py2.py3-none-any.whl (127kB)\n",
            "\u001b[K     |████████████████████████████████| 133kB 6.2MB/s \n",
            "\u001b[?25hRequirement already satisfied: beautifulsoup4 in /usr/local/lib/python3.6/dist-packages (from bs4->requests_html) (4.6.3)\n",
            "Requirement already satisfied: idna<3,>=2.5 in /usr/local/lib/python3.6/dist-packages (from requests->requests_html) (2.10)\n",
            "Requirement already satisfied: certifi>=2017.4.17 in /usr/local/lib/python3.6/dist-packages (from requests->requests_html) (2020.6.20)\n",
            "Requirement already satisfied: chardet<4,>=3.0.2 in /usr/local/lib/python3.6/dist-packages (from requests->requests_html) (3.0.4)\n",
            "Requirement already satisfied: lxml>=2.1 in /usr/local/lib/python3.6/dist-packages (from pyquery->requests_html) (4.2.6)\n",
            "Collecting cssselect>0.7.9\n",
            "  Downloading https://files.pythonhosted.org/packages/3b/d4/3b5c17f00cce85b9a1e6f91096e1cc8e8ede2e1be8e96b87ce1ed09e92c5/cssselect-1.1.0-py2.py3-none-any.whl\n",
            "Requirement already satisfied: requests-oauthlib>=0.7.0 in /usr/local/lib/python3.6/dist-packages (from google-auth-oauthlib<0.5,>=0.4.1->tensorboard<3,>=2.3.0->tensorflow) (1.3.0)\n",
            "Requirement already satisfied: pyasn1-modules>=0.2.1 in /usr/local/lib/python3.6/dist-packages (from google-auth<2,>=1.6.3->tensorboard<3,>=2.3.0->tensorflow) (0.2.8)\n",
            "Requirement already satisfied: rsa<5,>=3.1.4; python_version >= \"3\" in /usr/local/lib/python3.6/dist-packages (from google-auth<2,>=1.6.3->tensorboard<3,>=2.3.0->tensorflow) (4.6)\n",
            "Requirement already satisfied: cachetools<5.0,>=2.0.0 in /usr/local/lib/python3.6/dist-packages (from google-auth<2,>=1.6.3->tensorboard<3,>=2.3.0->tensorflow) (4.1.1)\n",
            "Requirement already satisfied: importlib-metadata; python_version < \"3.8\" in /usr/local/lib/python3.6/dist-packages (from markdown>=2.6.8->tensorboard<3,>=2.3.0->tensorflow) (1.7.0)\n",
            "Requirement already satisfied: oauthlib>=3.0.0 in /usr/local/lib/python3.6/dist-packages (from requests-oauthlib>=0.7.0->google-auth-oauthlib<0.5,>=0.4.1->tensorboard<3,>=2.3.0->tensorflow) (3.1.0)\n",
            "Requirement already satisfied: pyasn1<0.5.0,>=0.4.6 in /usr/local/lib/python3.6/dist-packages (from pyasn1-modules>=0.2.1->google-auth<2,>=1.6.3->tensorboard<3,>=2.3.0->tensorflow) (0.4.8)\n",
            "Requirement already satisfied: zipp>=0.5 in /usr/local/lib/python3.6/dist-packages (from importlib-metadata; python_version < \"3.8\"->markdown>=2.6.8->tensorboard<3,>=2.3.0->tensorflow) (3.1.0)\n",
            "Building wheels for collected packages: parse, fake-useragent\n",
            "  Building wheel for parse (setup.py) ... \u001b[?25l\u001b[?25hdone\n",
            "  Created wheel for parse: filename=parse-1.17.0-cp36-none-any.whl size=24118 sha256=0aa1dd90bd56bb1ba41e079b46c8e644c820b2da75d0f5eef1ded85993bd2c5f\n",
            "  Stored in directory: /root/.cache/pip/wheels/83/ad/41/87f17d17fdc2b5f9648e2ec2f9dbe6ad51c2f58f086baafedf\n",
            "  Building wheel for fake-useragent (setup.py) ... \u001b[?25l\u001b[?25hdone\n",
            "  Created wheel for fake-useragent: filename=fake_useragent-0.1.11-cp36-none-any.whl size=13485 sha256=dd3c4a5d61c6781a8433527be2b6f4e317f53404395aa683e9c58a180e019fe9\n",
            "  Stored in directory: /root/.cache/pip/wheels/5e/63/09/d1dc15179f175357d3f5c00cbffbac37f9e8690d80545143ff\n",
            "Successfully built parse fake-useragent\n",
            "\u001b[31mERROR: kaggle 1.5.6 has requirement urllib3<1.25,>=1.21.1, but you'll have urllib3 1.25.10 which is incompatible.\u001b[0m\n",
            "\u001b[31mERROR: datascience 0.10.6 has requirement folium==0.2.1, but you'll have folium 0.8.3 which is incompatible.\u001b[0m\n",
            "Installing collected packages: yahoo-fin, pyee, tqdm, appdirs, websockets, urllib3, pyppeteer, w3lib, parse, fake-useragent, cssselect, pyquery, requests-html\n",
            "  Found existing installation: tqdm 4.41.1\n",
            "    Uninstalling tqdm-4.41.1:\n",
            "      Successfully uninstalled tqdm-4.41.1\n",
            "  Found existing installation: urllib3 1.24.3\n",
            "    Uninstalling urllib3-1.24.3:\n",
            "      Successfully uninstalled urllib3-1.24.3\n",
            "Successfully installed appdirs-1.4.4 cssselect-1.1.0 fake-useragent-0.1.11 parse-1.17.0 pyee-7.0.3 pyppeteer-0.2.2 pyquery-1.4.1 requests-html-0.10.0 tqdm-4.48.2 urllib3-1.25.10 w3lib-1.22.0 websockets-8.1 yahoo-fin-0.8.6\n"
          ],
          "name": "stdout"
        }
      ]
    },
    {
      "cell_type": "code",
      "metadata": {
        "id": "eIBaeIbGIDlp",
        "colab_type": "code",
        "colab": {}
      },
      "source": [
        "import tensorflow as tf\n",
        "from tensorflow.keras.models import Sequential\n",
        "from tensorflow.keras.layers import LSTM, Dense, Dropout, Bidirectional\n",
        "from tensorflow.keras.callbacks import ModelCheckpoint, TensorBoard\n",
        "from sklearn import preprocessing\n",
        "from sklearn.model_selection import train_test_split\n",
        "from sklearn.metrics import accuracy_score\n",
        "from yahoo_fin import stock_info as si\n",
        "from collections import deque\n",
        "\n",
        "import numpy as np\n",
        "import pandas as pd\n",
        "import matplotlib.pyplot as plt\n",
        "import time\n",
        "import os\n",
        "import random"
      ],
      "execution_count": 2,
      "outputs": []
    },
    {
      "cell_type": "code",
      "metadata": {
        "id": "Zqb7QhuoITpJ",
        "colab_type": "code",
        "colab": {}
      },
      "source": [
        "# set seed, so we can get the same results after rerunning several times\n",
        "np.random.seed(314)\n",
        "tf.random.set_seed(314)\n",
        "random.seed(314)"
      ],
      "execution_count": 3,
      "outputs": []
    },
    {
      "cell_type": "code",
      "metadata": {
        "id": "61NhYlGcIf0R",
        "colab_type": "code",
        "colab": {}
      },
      "source": [
        "def load_data(ticker, n_steps=50, scale=True, shuffle=True, lookup_step=1, \n",
        "                test_size=0.2, feature_columns=['adjclose', 'volume', 'open', 'high', 'low']):\n",
        "    \"\"\"\n",
        "    Loads data from Yahoo Finance source, as well as scaling, shuffling, normalizing and splitting.\n",
        "    Params:\n",
        "        ticker (str/pd.DataFrame): the ticker you want to load, examples include AAPL, TESL, etc.\n",
        "        n_steps (int): the historical sequence length (i.e window size) used to predict, default is 50\n",
        "        scale (bool): whether to scale prices from 0 to 1, default is True\n",
        "        shuffle (bool): whether to shuffle the data, default is True\n",
        "        lookup_step (int): the future lookup step to predict, default is 1 (e.g next day)\n",
        "        test_size (float): ratio for test data, default is 0.2 (20% testing data)\n",
        "        feature_columns (list): the list of features to use to feed into the model, default is everything grabbed from yahoo_fin\n",
        "    \"\"\"\n",
        "    # see if ticker is already a loaded stock from yahoo finance\n",
        "    if isinstance(ticker, str):\n",
        "        # load it from yahoo_fin library\n",
        "        df = si.get_data(ticker)\n",
        "    elif isinstance(ticker, pd.DataFrame):\n",
        "        # already loaded, use it directly\n",
        "        df = ticker\n",
        "    else:\n",
        "        raise TypeError(\"ticker can be either a str or a `pd.DataFrame` instances\")\n",
        "    # this will contain all the elements we want to return from this function\n",
        "    result = {}\n",
        "    # we will also return the original dataframe itself\n",
        "    result['df'] = df.copy()\n",
        "    # make sure that the passed feature_columns exist in the dataframe\n",
        "    for col in feature_columns:\n",
        "        assert col in df.columns, f\"'{col}' does not exist in the dataframe.\"\n",
        "    if scale:\n",
        "        column_scaler = {}\n",
        "        # scale the data (prices) from 0 to 1\n",
        "        for column in feature_columns:\n",
        "            scaler = preprocessing.MinMaxScaler()\n",
        "            df[column] = scaler.fit_transform(np.expand_dims(df[column].values, axis=1))\n",
        "            column_scaler[column] = scaler\n",
        "        # add the MinMaxScaler instances to the result returned\n",
        "        result[\"column_scaler\"] = column_scaler\n",
        "    # add the target column (label) by shifting by `lookup_step`\n",
        "    df['future'] = df['adjclose'].shift(-lookup_step)\n",
        "    # last `lookup_step` columns contains NaN in future column\n",
        "    # get them before droping NaNs\n",
        "    last_sequence = np.array(df[feature_columns].tail(lookup_step))\n",
        "    # drop NaNs\n",
        "    df.dropna(inplace=True)\n",
        "    sequence_data = []\n",
        "    sequences = deque(maxlen=n_steps)\n",
        "    for entry, target in zip(df[feature_columns].values, df['future'].values):\n",
        "        sequences.append(entry)\n",
        "        if len(sequences) == n_steps:\n",
        "            sequence_data.append([np.array(sequences), target])\n",
        "    # get the last sequence by appending the last `n_step` sequence with `lookup_step` sequence\n",
        "    # for instance, if n_steps=50 and lookup_step=10, last_sequence should be of 60 (that is 50+10) length\n",
        "    # this last_sequence will be used to predict future stock prices not available in the dataset\n",
        "    last_sequence = list(sequences) + list(last_sequence)\n",
        "    last_sequence = np.array(last_sequence)\n",
        "    # add to result\n",
        "    result['last_sequence'] = last_sequence\n",
        "    # construct the X's and y's\n",
        "    X, y = [], []\n",
        "    for seq, target in sequence_data:\n",
        "        X.append(seq)\n",
        "        y.append(target)\n",
        "    # convert to numpy arrays\n",
        "    X = np.array(X)\n",
        "    y = np.array(y)\n",
        "    # reshape X to fit the neural network\n",
        "    X = X.reshape((X.shape[0], X.shape[2], X.shape[1]))\n",
        "    # split the dataset\n",
        "    result[\"X_train\"], result[\"X_test\"], result[\"y_train\"], result[\"y_test\"] = train_test_split(X, y, \n",
        "                                                                               test_size=test_size, shuffle=shuffle)\n",
        "    # return the result\n",
        "    return result"
      ],
      "execution_count": 4,
      "outputs": []
    },
    {
      "cell_type": "code",
      "metadata": {
        "id": "ym63baQlIgFq",
        "colab_type": "code",
        "colab": {}
      },
      "source": [
        "def create_model(sequence_length, units=256, cell=LSTM, n_layers=2, dropout=0.3,\n",
        "                loss=\"mean_absolute_error\", optimizer=\"rmsprop\", bidirectional=False):\n",
        "    model = Sequential()\n",
        "    for i in range(n_layers):\n",
        "        if i == 0:\n",
        "            # first layer\n",
        "            if bidirectional:\n",
        "                model.add(Bidirectional(cell(units, return_sequences=True), input_shape=(None, sequence_length)))\n",
        "            else:\n",
        "                model.add(cell(units, return_sequences=True, input_shape=(None, sequence_length)))\n",
        "        elif i == n_layers - 1:\n",
        "            # last layer\n",
        "            if bidirectional:\n",
        "                model.add(Bidirectional(cell(units, return_sequences=False)))\n",
        "            else:\n",
        "                model.add(cell(units, return_sequences=False))\n",
        "        else:\n",
        "            # hidden layers\n",
        "            if bidirectional:\n",
        "                model.add(Bidirectional(cell(units, return_sequences=True)))\n",
        "            else:\n",
        "                model.add(cell(units, return_sequences=True))\n",
        "        # add dropout after each layer\n",
        "        model.add(Dropout(dropout))\n",
        "    model.add(Dense(1, activation=\"linear\"))\n",
        "    model.compile(loss=loss, metrics=[\"mean_absolute_error\"], optimizer=optimizer)\n",
        "    return model"
      ],
      "execution_count": 5,
      "outputs": []
    },
    {
      "cell_type": "code",
      "metadata": {
        "id": "1O3Sr0ACIg0-",
        "colab_type": "code",
        "colab": {}
      },
      "source": [
        "# Window size or the sequence length\n",
        "N_STEPS = 70\n",
        "# Lookup step, 1 is the next day\n",
        "LOOKUP_STEP = 1\n",
        "# test ratio size, 0.2 is 20%\n",
        "TEST_SIZE = 0.2\n",
        "# features to use\n",
        "FEATURE_COLUMNS = [\"adjclose\", \"volume\", \"open\", \"high\", \"low\"]\n",
        "# date now\n",
        "date_now = time.strftime(\"%Y-%m-%d\")\n",
        "### model parameters\n",
        "N_LAYERS = 3\n",
        "# LSTM cell\n",
        "CELL = LSTM\n",
        "# 256 LSTM neurons\n",
        "UNITS = 256\n",
        "# 40% dropout\n",
        "DROPOUT = 0.4\n",
        "# whether to use bidirectional RNNs\n",
        "BIDIRECTIONAL = False\n",
        "### training parameters\n",
        "# mean absolute error loss\n",
        "# LOSS = \"mae\"\n",
        "# huber loss\n",
        "LOSS = \"huber_loss\"\n",
        "OPTIMIZER = \"adam\"\n",
        "BATCH_SIZE = 64\n",
        "EPOCHS = 50\n",
        "# Tesla stock market\n",
        "ticker = \"TSLA\"\n",
        "ticker_data_filename = os.path.join(\"data\", f\"{ticker}_{date_now}.csv\")\n",
        "# model name to save, making it as unique as possible based on parameters\n",
        "model_name = f\"{date_now}_{ticker}-{LOSS}-{OPTIMIZER}-{CELL.__name__}-seq-{N_STEPS}-step-{LOOKUP_STEP}-layers-{N_LAYERS}-units-{UNITS}\"\n",
        "if BIDIRECTIONAL:\n",
        "    model_name += \"-b\""
      ],
      "execution_count": 6,
      "outputs": []
    },
    {
      "cell_type": "code",
      "metadata": {
        "id": "4wCfD5gzIhAN",
        "colab_type": "code",
        "colab": {}
      },
      "source": [
        "# create these folders if they does not exist\n",
        "if not os.path.isdir(\"results\"):\n",
        "    os.mkdir(\"results\")\n",
        "if not os.path.isdir(\"logs\"):\n",
        "    os.mkdir(\"logs\")\n",
        "if not os.path.isdir(\"data\"):\n",
        "    os.mkdir(\"data\")"
      ],
      "execution_count": 7,
      "outputs": []
    },
    {
      "cell_type": "code",
      "metadata": {
        "id": "_wf8vzdbIhIY",
        "colab_type": "code",
        "colab": {
          "base_uri": "https://localhost:8080/",
          "height": 1000
        },
        "outputId": "e210ee83-b33b-4cc4-c373-9b942ea485d3"
      },
      "source": [
        "# load the data\n",
        "data = load_data(ticker, N_STEPS, lookup_step=LOOKUP_STEP, test_size=TEST_SIZE, feature_columns=FEATURE_COLUMNS)\n",
        "# save the dataframe\n",
        "data[\"df\"].to_csv(ticker_data_filename)\n",
        "# construct the model\n",
        "model = create_model(N_STEPS, loss=LOSS, units=UNITS, cell=CELL, n_layers=N_LAYERS,\n",
        "                    dropout=DROPOUT, optimizer=OPTIMIZER, bidirectional=BIDIRECTIONAL)\n",
        "# some tensorflow callbacks\n",
        "checkpointer = ModelCheckpoint(os.path.join(\"results\", model_name + \".h5\"), save_weights_only=True, save_best_only=True, verbose=1)\n",
        "tensorboard = TensorBoard(log_dir=os.path.join(\"logs\", model_name))\n",
        "history = model.fit(data[\"X_train\"], data[\"y_train\"],\n",
        "                    batch_size=BATCH_SIZE,\n",
        "                    epochs=EPOCHS,\n",
        "                    validation_data=(data[\"X_test\"], data[\"y_test\"]),\n",
        "                    callbacks=[checkpointer, tensorboard],\n",
        "                    verbose=1)\n",
        "model.save(os.path.join(\"results\", model_name) + \".h5\")"
      ],
      "execution_count": 8,
      "outputs": [
        {
          "output_type": "stream",
          "text": [
            "Epoch 1/50\n",
            " 1/32 [..............................] - ETA: 0s - loss: 0.0082 - mean_absolute_error: 0.0960WARNING:tensorflow:From /usr/local/lib/python3.6/dist-packages/tensorflow/python/ops/summary_ops_v2.py:1277: stop (from tensorflow.python.eager.profiler) is deprecated and will be removed after 2020-07-01.\n",
            "Instructions for updating:\n",
            "use `tf.profiler.experimental.stop` instead.\n",
            " 2/32 [>.............................] - ETA: 1s - loss: 0.0064 - mean_absolute_error: 0.0666WARNING:tensorflow:Callbacks method `on_train_batch_end` is slow compared to the batch time (batch time: 0.0197s vs `on_train_batch_end` time: 0.0837s). Check your callbacks.\n",
            "29/32 [==========================>...] - ETA: 0s - loss: 0.0015 - mean_absolute_error: 0.0335\n",
            "Epoch 00001: val_loss improved from inf to 0.00038, saving model to results/2020-09-05_TSLA-huber_loss-adam-LSTM-seq-70-step-1-layers-3-units-256.h5\n",
            "32/32 [==============================] - 2s 57ms/step - loss: 0.0014 - mean_absolute_error: 0.0321 - val_loss: 3.8406e-04 - val_mean_absolute_error: 0.0194\n",
            "Epoch 2/50\n",
            "29/32 [==========================>...] - ETA: 0s - loss: 5.3889e-04 - mean_absolute_error: 0.0191\n",
            "Epoch 00002: val_loss improved from 0.00038 to 0.00033, saving model to results/2020-09-05_TSLA-huber_loss-adam-LSTM-seq-70-step-1-layers-3-units-256.h5\n",
            "32/32 [==============================] - 1s 18ms/step - loss: 5.3279e-04 - mean_absolute_error: 0.0190 - val_loss: 3.3138e-04 - val_mean_absolute_error: 0.0161\n",
            "Epoch 3/50\n",
            "29/32 [==========================>...] - ETA: 0s - loss: 4.9015e-04 - mean_absolute_error: 0.0184\n",
            "Epoch 00003: val_loss improved from 0.00033 to 0.00033, saving model to results/2020-09-05_TSLA-huber_loss-adam-LSTM-seq-70-step-1-layers-3-units-256.h5\n",
            "32/32 [==============================] - 1s 18ms/step - loss: 4.7606e-04 - mean_absolute_error: 0.0181 - val_loss: 3.2711e-04 - val_mean_absolute_error: 0.0128\n",
            "Epoch 4/50\n",
            "32/32 [==============================] - ETA: 0s - loss: 4.8187e-04 - mean_absolute_error: 0.0188\n",
            "Epoch 00004: val_loss did not improve from 0.00033\n",
            "32/32 [==============================] - 1s 17ms/step - loss: 4.8187e-04 - mean_absolute_error: 0.0188 - val_loss: 3.8257e-04 - val_mean_absolute_error: 0.0147\n",
            "Epoch 5/50\n",
            "32/32 [==============================] - ETA: 0s - loss: 5.1714e-04 - mean_absolute_error: 0.0172\n",
            "Epoch 00005: val_loss did not improve from 0.00033\n",
            "32/32 [==============================] - 1s 17ms/step - loss: 5.1714e-04 - mean_absolute_error: 0.0172 - val_loss: 4.9426e-04 - val_mean_absolute_error: 0.0202\n",
            "Epoch 6/50\n",
            "29/32 [==========================>...] - ETA: 0s - loss: 6.3435e-04 - mean_absolute_error: 0.0213\n",
            "Epoch 00006: val_loss improved from 0.00033 to 0.00022, saving model to results/2020-09-05_TSLA-huber_loss-adam-LSTM-seq-70-step-1-layers-3-units-256.h5\n",
            "32/32 [==============================] - 1s 17ms/step - loss: 6.1151e-04 - mean_absolute_error: 0.0208 - val_loss: 2.2411e-04 - val_mean_absolute_error: 0.0116\n",
            "Epoch 7/50\n",
            "31/32 [============================>.] - ETA: 0s - loss: 5.0659e-04 - mean_absolute_error: 0.0175\n",
            "Epoch 00007: val_loss did not improve from 0.00022\n",
            "32/32 [==============================] - 1s 18ms/step - loss: 5.0456e-04 - mean_absolute_error: 0.0175 - val_loss: 2.6909e-04 - val_mean_absolute_error: 0.0144\n",
            "Epoch 8/50\n",
            "29/32 [==========================>...] - ETA: 0s - loss: 5.9036e-04 - mean_absolute_error: 0.0210\n",
            "Epoch 00008: val_loss improved from 0.00022 to 0.00021, saving model to results/2020-09-05_TSLA-huber_loss-adam-LSTM-seq-70-step-1-layers-3-units-256.h5\n",
            "32/32 [==============================] - 1s 18ms/step - loss: 5.9787e-04 - mean_absolute_error: 0.0208 - val_loss: 2.0940e-04 - val_mean_absolute_error: 0.0123\n",
            "Epoch 9/50\n",
            "32/32 [==============================] - ETA: 0s - loss: 4.8412e-04 - mean_absolute_error: 0.0174\n",
            "Epoch 00009: val_loss did not improve from 0.00021\n",
            "32/32 [==============================] - 1s 18ms/step - loss: 4.8412e-04 - mean_absolute_error: 0.0174 - val_loss: 4.9082e-04 - val_mean_absolute_error: 0.0218\n",
            "Epoch 10/50\n",
            "29/32 [==========================>...] - ETA: 0s - loss: 6.6728e-04 - mean_absolute_error: 0.0212\n",
            "Epoch 00010: val_loss did not improve from 0.00021\n",
            "32/32 [==============================] - 1s 17ms/step - loss: 6.5270e-04 - mean_absolute_error: 0.0211 - val_loss: 3.0095e-04 - val_mean_absolute_error: 0.0164\n",
            "Epoch 11/50\n",
            "30/32 [===========================>..] - ETA: 0s - loss: 5.2477e-04 - mean_absolute_error: 0.0188\n",
            "Epoch 00011: val_loss did not improve from 0.00021\n",
            "32/32 [==============================] - 1s 18ms/step - loss: 5.2942e-04 - mean_absolute_error: 0.0189 - val_loss: 2.3411e-04 - val_mean_absolute_error: 0.0127\n",
            "Epoch 12/50\n",
            "29/32 [==========================>...] - ETA: 0s - loss: 4.9773e-04 - mean_absolute_error: 0.0180\n",
            "Epoch 00012: val_loss did not improve from 0.00021\n",
            "32/32 [==============================] - 1s 17ms/step - loss: 4.9155e-04 - mean_absolute_error: 0.0180 - val_loss: 2.6842e-04 - val_mean_absolute_error: 0.0154\n",
            "Epoch 13/50\n",
            "32/32 [==============================] - ETA: 0s - loss: 3.7762e-04 - mean_absolute_error: 0.0160\n",
            "Epoch 00013: val_loss did not improve from 0.00021\n",
            "32/32 [==============================] - 1s 17ms/step - loss: 3.7762e-04 - mean_absolute_error: 0.0160 - val_loss: 3.1449e-04 - val_mean_absolute_error: 0.0150\n",
            "Epoch 14/50\n",
            "31/32 [============================>.] - ETA: 0s - loss: 3.4907e-04 - mean_absolute_error: 0.0160\n",
            "Epoch 00014: val_loss improved from 0.00021 to 0.00020, saving model to results/2020-09-05_TSLA-huber_loss-adam-LSTM-seq-70-step-1-layers-3-units-256.h5\n",
            "32/32 [==============================] - 1s 18ms/step - loss: 3.4768e-04 - mean_absolute_error: 0.0159 - val_loss: 2.0026e-04 - val_mean_absolute_error: 0.0119\n",
            "Epoch 15/50\n",
            "32/32 [==============================] - ETA: 0s - loss: 3.1913e-04 - mean_absolute_error: 0.0135\n",
            "Epoch 00015: val_loss did not improve from 0.00020\n",
            "32/32 [==============================] - 1s 17ms/step - loss: 3.1913e-04 - mean_absolute_error: 0.0135 - val_loss: 2.1622e-04 - val_mean_absolute_error: 0.0108\n",
            "Epoch 16/50\n",
            "32/32 [==============================] - ETA: 0s - loss: 3.8387e-04 - mean_absolute_error: 0.0158\n",
            "Epoch 00016: val_loss improved from 0.00020 to 0.00016, saving model to results/2020-09-05_TSLA-huber_loss-adam-LSTM-seq-70-step-1-layers-3-units-256.h5\n",
            "32/32 [==============================] - 1s 18ms/step - loss: 3.8387e-04 - mean_absolute_error: 0.0158 - val_loss: 1.5530e-04 - val_mean_absolute_error: 0.0106\n",
            "Epoch 17/50\n",
            "32/32 [==============================] - ETA: 0s - loss: 3.3078e-04 - mean_absolute_error: 0.0156\n",
            "Epoch 00017: val_loss did not improve from 0.00016\n",
            "32/32 [==============================] - 1s 17ms/step - loss: 3.3078e-04 - mean_absolute_error: 0.0156 - val_loss: 1.6441e-04 - val_mean_absolute_error: 0.0119\n",
            "Epoch 18/50\n",
            "30/32 [===========================>..] - ETA: 0s - loss: 4.8082e-04 - mean_absolute_error: 0.0168\n",
            "Epoch 00018: val_loss did not improve from 0.00016\n",
            "32/32 [==============================] - 1s 18ms/step - loss: 4.8441e-04 - mean_absolute_error: 0.0172 - val_loss: 5.4018e-04 - val_mean_absolute_error: 0.0260\n",
            "Epoch 19/50\n",
            "29/32 [==========================>...] - ETA: 0s - loss: 3.6643e-04 - mean_absolute_error: 0.0154\n",
            "Epoch 00019: val_loss did not improve from 0.00016\n",
            "32/32 [==============================] - 1s 17ms/step - loss: 3.4996e-04 - mean_absolute_error: 0.0151 - val_loss: 1.9107e-04 - val_mean_absolute_error: 0.0111\n",
            "Epoch 20/50\n",
            "32/32 [==============================] - ETA: 0s - loss: 2.8028e-04 - mean_absolute_error: 0.0129\n",
            "Epoch 00020: val_loss improved from 0.00016 to 0.00012, saving model to results/2020-09-05_TSLA-huber_loss-adam-LSTM-seq-70-step-1-layers-3-units-256.h5\n",
            "32/32 [==============================] - 1s 18ms/step - loss: 2.8028e-04 - mean_absolute_error: 0.0129 - val_loss: 1.2290e-04 - val_mean_absolute_error: 0.0086\n",
            "Epoch 21/50\n",
            "29/32 [==========================>...] - ETA: 0s - loss: 2.9224e-04 - mean_absolute_error: 0.0132\n",
            "Epoch 00021: val_loss improved from 0.00012 to 0.00010, saving model to results/2020-09-05_TSLA-huber_loss-adam-LSTM-seq-70-step-1-layers-3-units-256.h5\n",
            "32/32 [==============================] - 1s 18ms/step - loss: 2.8921e-04 - mean_absolute_error: 0.0132 - val_loss: 1.0033e-04 - val_mean_absolute_error: 0.0077\n",
            "Epoch 22/50\n",
            "29/32 [==========================>...] - ETA: 0s - loss: 2.5544e-04 - mean_absolute_error: 0.0124\n",
            "Epoch 00022: val_loss improved from 0.00010 to 0.00009, saving model to results/2020-09-05_TSLA-huber_loss-adam-LSTM-seq-70-step-1-layers-3-units-256.h5\n",
            "32/32 [==============================] - 1s 17ms/step - loss: 2.5843e-04 - mean_absolute_error: 0.0125 - val_loss: 8.7299e-05 - val_mean_absolute_error: 0.0082\n",
            "Epoch 23/50\n",
            "29/32 [==========================>...] - ETA: 0s - loss: 4.0916e-04 - mean_absolute_error: 0.0164\n",
            "Epoch 00023: val_loss improved from 0.00009 to 0.00007, saving model to results/2020-09-05_TSLA-huber_loss-adam-LSTM-seq-70-step-1-layers-3-units-256.h5\n",
            "32/32 [==============================] - 1s 18ms/step - loss: 3.8818e-04 - mean_absolute_error: 0.0160 - val_loss: 7.3753e-05 - val_mean_absolute_error: 0.0069\n",
            "Epoch 24/50\n",
            "29/32 [==========================>...] - ETA: 0s - loss: 2.1911e-04 - mean_absolute_error: 0.0121\n",
            "Epoch 00024: val_loss did not improve from 0.00007\n",
            "32/32 [==============================] - 1s 17ms/step - loss: 2.2051e-04 - mean_absolute_error: 0.0120 - val_loss: 7.6877e-05 - val_mean_absolute_error: 0.0067\n",
            "Epoch 25/50\n",
            "32/32 [==============================] - ETA: 0s - loss: 2.8691e-04 - mean_absolute_error: 0.0143\n",
            "Epoch 00025: val_loss did not improve from 0.00007\n",
            "32/32 [==============================] - 1s 17ms/step - loss: 2.8691e-04 - mean_absolute_error: 0.0143 - val_loss: 2.3765e-04 - val_mean_absolute_error: 0.0174\n",
            "Epoch 26/50\n",
            "29/32 [==========================>...] - ETA: 0s - loss: 2.3475e-04 - mean_absolute_error: 0.0127\n",
            "Epoch 00026: val_loss did not improve from 0.00007\n",
            "32/32 [==============================] - 1s 17ms/step - loss: 2.3530e-04 - mean_absolute_error: 0.0129 - val_loss: 8.2209e-05 - val_mean_absolute_error: 0.0084\n",
            "Epoch 27/50\n",
            "32/32 [==============================] - ETA: 0s - loss: 2.6487e-04 - mean_absolute_error: 0.0127\n",
            "Epoch 00027: val_loss did not improve from 0.00007\n",
            "32/32 [==============================] - 1s 17ms/step - loss: 2.6487e-04 - mean_absolute_error: 0.0127 - val_loss: 1.5983e-04 - val_mean_absolute_error: 0.0119\n",
            "Epoch 28/50\n",
            "29/32 [==========================>...] - ETA: 0s - loss: 3.3441e-04 - mean_absolute_error: 0.0161\n",
            "Epoch 00028: val_loss improved from 0.00007 to 0.00005, saving model to results/2020-09-05_TSLA-huber_loss-adam-LSTM-seq-70-step-1-layers-3-units-256.h5\n",
            "32/32 [==============================] - 1s 19ms/step - loss: 3.2174e-04 - mean_absolute_error: 0.0157 - val_loss: 5.2477e-05 - val_mean_absolute_error: 0.0055\n",
            "Epoch 29/50\n",
            "32/32 [==============================] - ETA: 0s - loss: 2.0405e-04 - mean_absolute_error: 0.0119\n",
            "Epoch 00029: val_loss did not improve from 0.00005\n",
            "32/32 [==============================] - 1s 17ms/step - loss: 2.0405e-04 - mean_absolute_error: 0.0119 - val_loss: 6.2304e-05 - val_mean_absolute_error: 0.0073\n",
            "Epoch 30/50\n",
            "32/32 [==============================] - ETA: 0s - loss: 2.3594e-04 - mean_absolute_error: 0.0130\n",
            "Epoch 00030: val_loss did not improve from 0.00005\n",
            "32/32 [==============================] - 1s 17ms/step - loss: 2.3594e-04 - mean_absolute_error: 0.0130 - val_loss: 7.1453e-05 - val_mean_absolute_error: 0.0075\n",
            "Epoch 31/50\n",
            "29/32 [==========================>...] - ETA: 0s - loss: 1.9855e-04 - mean_absolute_error: 0.0121\n",
            "Epoch 00031: val_loss did not improve from 0.00005\n",
            "32/32 [==============================] - 1s 17ms/step - loss: 1.9067e-04 - mean_absolute_error: 0.0119 - val_loss: 7.1287e-05 - val_mean_absolute_error: 0.0081\n",
            "Epoch 32/50\n",
            "31/32 [============================>.] - ETA: 0s - loss: 1.6153e-04 - mean_absolute_error: 0.0104\n",
            "Epoch 00032: val_loss did not improve from 0.00005\n",
            "32/32 [==============================] - 1s 18ms/step - loss: 1.6112e-04 - mean_absolute_error: 0.0104 - val_loss: 6.1036e-05 - val_mean_absolute_error: 0.0063\n",
            "Epoch 33/50\n",
            "29/32 [==========================>...] - ETA: 0s - loss: 1.7438e-04 - mean_absolute_error: 0.0110\n",
            "Epoch 00033: val_loss improved from 0.00005 to 0.00004, saving model to results/2020-09-05_TSLA-huber_loss-adam-LSTM-seq-70-step-1-layers-3-units-256.h5\n",
            "32/32 [==============================] - 1s 18ms/step - loss: 1.6963e-04 - mean_absolute_error: 0.0108 - val_loss: 4.0600e-05 - val_mean_absolute_error: 0.0049\n",
            "Epoch 34/50\n",
            "32/32 [==============================] - ETA: 0s - loss: 2.0229e-04 - mean_absolute_error: 0.0109\n",
            "Epoch 00034: val_loss improved from 0.00004 to 0.00004, saving model to results/2020-09-05_TSLA-huber_loss-adam-LSTM-seq-70-step-1-layers-3-units-256.h5\n",
            "32/32 [==============================] - 1s 18ms/step - loss: 2.0229e-04 - mean_absolute_error: 0.0109 - val_loss: 3.9357e-05 - val_mean_absolute_error: 0.0042\n",
            "Epoch 35/50\n",
            "29/32 [==========================>...] - ETA: 0s - loss: 1.3286e-04 - mean_absolute_error: 0.0094\n",
            "Epoch 00035: val_loss improved from 0.00004 to 0.00004, saving model to results/2020-09-05_TSLA-huber_loss-adam-LSTM-seq-70-step-1-layers-3-units-256.h5\n",
            "32/32 [==============================] - 1s 17ms/step - loss: 1.2915e-04 - mean_absolute_error: 0.0094 - val_loss: 3.7581e-05 - val_mean_absolute_error: 0.0057\n",
            "Epoch 36/50\n",
            "29/32 [==========================>...] - ETA: 0s - loss: 1.6635e-04 - mean_absolute_error: 0.0105\n",
            "Epoch 00036: val_loss did not improve from 0.00004\n",
            "32/32 [==============================] - 1s 17ms/step - loss: 1.6351e-04 - mean_absolute_error: 0.0105 - val_loss: 7.3843e-05 - val_mean_absolute_error: 0.0097\n",
            "Epoch 37/50\n",
            "29/32 [==========================>...] - ETA: 0s - loss: 1.3295e-04 - mean_absolute_error: 0.0092\n",
            "Epoch 00037: val_loss improved from 0.00004 to 0.00003, saving model to results/2020-09-05_TSLA-huber_loss-adam-LSTM-seq-70-step-1-layers-3-units-256.h5\n",
            "32/32 [==============================] - 1s 20ms/step - loss: 1.3874e-04 - mean_absolute_error: 0.0094 - val_loss: 2.9480e-05 - val_mean_absolute_error: 0.0037\n",
            "Epoch 38/50\n",
            "29/32 [==========================>...] - ETA: 0s - loss: 1.7512e-04 - mean_absolute_error: 0.0103\n",
            "Epoch 00038: val_loss did not improve from 0.00003\n",
            "32/32 [==============================] - 1s 17ms/step - loss: 1.7066e-04 - mean_absolute_error: 0.0103 - val_loss: 3.0039e-05 - val_mean_absolute_error: 0.0048\n",
            "Epoch 39/50\n",
            "31/32 [============================>.] - ETA: 0s - loss: 1.6050e-04 - mean_absolute_error: 0.0096\n",
            "Epoch 00039: val_loss did not improve from 0.00003\n",
            "32/32 [==============================] - 1s 18ms/step - loss: 1.5989e-04 - mean_absolute_error: 0.0095 - val_loss: 4.6800e-05 - val_mean_absolute_error: 0.0049\n",
            "Epoch 40/50\n",
            "29/32 [==========================>...] - ETA: 0s - loss: 1.2916e-04 - mean_absolute_error: 0.0096\n",
            "Epoch 00040: val_loss did not improve from 0.00003\n",
            "32/32 [==============================] - 1s 17ms/step - loss: 1.2838e-04 - mean_absolute_error: 0.0095 - val_loss: 2.9496e-05 - val_mean_absolute_error: 0.0038\n",
            "Epoch 41/50\n",
            "32/32 [==============================] - ETA: 0s - loss: 1.2564e-04 - mean_absolute_error: 0.0089\n",
            "Epoch 00041: val_loss did not improve from 0.00003\n",
            "32/32 [==============================] - 1s 17ms/step - loss: 1.2564e-04 - mean_absolute_error: 0.0089 - val_loss: 3.4442e-05 - val_mean_absolute_error: 0.0049\n",
            "Epoch 42/50\n",
            "29/32 [==========================>...] - ETA: 0s - loss: 1.4689e-04 - mean_absolute_error: 0.0096\n",
            "Epoch 00042: val_loss did not improve from 0.00003\n",
            "32/32 [==============================] - 1s 17ms/step - loss: 1.5352e-04 - mean_absolute_error: 0.0097 - val_loss: 3.6475e-05 - val_mean_absolute_error: 0.0055\n",
            "Epoch 43/50\n",
            "32/32 [==============================] - ETA: 0s - loss: 1.2948e-04 - mean_absolute_error: 0.0095\n",
            "Epoch 00043: val_loss did not improve from 0.00003\n",
            "32/32 [==============================] - 1s 17ms/step - loss: 1.2948e-04 - mean_absolute_error: 0.0095 - val_loss: 2.9497e-05 - val_mean_absolute_error: 0.0039\n",
            "Epoch 44/50\n",
            "29/32 [==========================>...] - ETA: 0s - loss: 1.3907e-04 - mean_absolute_error: 0.0098\n",
            "Epoch 00044: val_loss did not improve from 0.00003\n",
            "32/32 [==============================] - 1s 17ms/step - loss: 1.3818e-04 - mean_absolute_error: 0.0098 - val_loss: 9.2717e-05 - val_mean_absolute_error: 0.0107\n",
            "Epoch 45/50\n",
            "32/32 [==============================] - ETA: 0s - loss: 1.3944e-04 - mean_absolute_error: 0.0104\n",
            "Epoch 00045: val_loss did not improve from 0.00003\n",
            "32/32 [==============================] - 1s 17ms/step - loss: 1.3944e-04 - mean_absolute_error: 0.0104 - val_loss: 7.1121e-05 - val_mean_absolute_error: 0.0094\n",
            "Epoch 46/50\n",
            "32/32 [==============================] - ETA: 0s - loss: 1.4655e-04 - mean_absolute_error: 0.0102\n",
            "Epoch 00046: val_loss did not improve from 0.00003\n",
            "32/32 [==============================] - 1s 17ms/step - loss: 1.4655e-04 - mean_absolute_error: 0.0102 - val_loss: 5.3190e-05 - val_mean_absolute_error: 0.0055\n",
            "Epoch 47/50\n",
            "29/32 [==========================>...] - ETA: 0s - loss: 1.5166e-04 - mean_absolute_error: 0.0094\n",
            "Epoch 00047: val_loss did not improve from 0.00003\n",
            "32/32 [==============================] - 1s 17ms/step - loss: 1.5379e-04 - mean_absolute_error: 0.0095 - val_loss: 3.1119e-05 - val_mean_absolute_error: 0.0047\n",
            "Epoch 48/50\n",
            "29/32 [==========================>...] - ETA: 0s - loss: 1.6553e-04 - mean_absolute_error: 0.0109\n",
            "Epoch 00048: val_loss did not improve from 0.00003\n",
            "32/32 [==============================] - 1s 17ms/step - loss: 1.7087e-04 - mean_absolute_error: 0.0111 - val_loss: 8.9681e-05 - val_mean_absolute_error: 0.0114\n",
            "Epoch 49/50\n",
            "29/32 [==========================>...] - ETA: 0s - loss: 1.2399e-04 - mean_absolute_error: 0.0096\n",
            "Epoch 00049: val_loss did not improve from 0.00003\n",
            "32/32 [==============================] - 1s 17ms/step - loss: 1.3760e-04 - mean_absolute_error: 0.0097 - val_loss: 7.1780e-05 - val_mean_absolute_error: 0.0087\n",
            "Epoch 50/50\n",
            "32/32 [==============================] - ETA: 0s - loss: 1.4917e-04 - mean_absolute_error: 0.0110\n",
            "Epoch 00050: val_loss did not improve from 0.00003\n",
            "32/32 [==============================] - 1s 17ms/step - loss: 1.4917e-04 - mean_absolute_error: 0.0110 - val_loss: 3.3539e-05 - val_mean_absolute_error: 0.0045\n"
          ],
          "name": "stdout"
        }
      ]
    },
    {
      "cell_type": "code",
      "metadata": {
        "id": "SqsXVKByIhL0",
        "colab_type": "code",
        "colab": {}
      },
      "source": [
        "#tensorboard --logdir=\"logs\""
      ],
      "execution_count": 9,
      "outputs": []
    },
    {
      "cell_type": "code",
      "metadata": {
        "id": "TtuACy80Ifls",
        "colab_type": "code",
        "colab": {}
      },
      "source": [
        "data = load_data(ticker, N_STEPS, lookup_step=LOOKUP_STEP, test_size=TEST_SIZE,\n",
        "                feature_columns=FEATURE_COLUMNS, shuffle=False)\n",
        "# construct the model\n",
        "model = create_model(N_STEPS, loss=LOSS, units=UNITS, cell=CELL, n_layers=N_LAYERS,\n",
        "                    dropout=DROPOUT, optimizer=OPTIMIZER, bidirectional=BIDIRECTIONAL)\n",
        "model_path = os.path.join(\"results\", model_name) + \".h5\"\n",
        "model.load_weights(model_path)"
      ],
      "execution_count": 10,
      "outputs": []
    },
    {
      "cell_type": "code",
      "metadata": {
        "id": "3WktsruRJEqE",
        "colab_type": "code",
        "colab": {
          "base_uri": "https://localhost:8080/",
          "height": 34
        },
        "outputId": "ba6c1196-f5d8-4fd2-94fc-2e5080cc92fe"
      },
      "source": [
        "# evaluate the model\n",
        "mse, mae = model.evaluate(data[\"X_test\"], data[\"y_test\"], verbose=0)\n",
        "# calculate the mean absolute error (inverse scaling)\n",
        "mean_absolute_error = data[\"column_scaler\"][\"adjclose\"].inverse_transform([[mae]])[0][0]\n",
        "print(\"Mean Absolute Error:\", mean_absolute_error)"
      ],
      "execution_count": 11,
      "outputs": [
        {
          "output_type": "stream",
          "text": [
            "Mean Absolute Error: 8.358148490927634\n"
          ],
          "name": "stdout"
        }
      ]
    },
    {
      "cell_type": "code",
      "metadata": {
        "id": "h8bOVCc8JEtN",
        "colab_type": "code",
        "colab": {}
      },
      "source": [
        "def predict(model, data):\n",
        "    # retrieve the last sequence from data\n",
        "    last_sequence = data[\"last_sequence\"][-N_STEPS:]\n",
        "    # retrieve the column scalers\n",
        "    column_scaler = data[\"column_scaler\"]\n",
        "    # reshape the last sequence\n",
        "    last_sequence = last_sequence.reshape((last_sequence.shape[1], last_sequence.shape[0]))\n",
        "    # expand dimension\n",
        "    last_sequence = np.expand_dims(last_sequence, axis=0)\n",
        "    # get the prediction (scaled from 0 to 1)\n",
        "    prediction = model.predict(last_sequence)\n",
        "    # get the price (by inverting the scaling)\n",
        "    predicted_price = column_scaler[\"adjclose\"].inverse_transform(prediction)[0][0]\n",
        "    return predicted_price"
      ],
      "execution_count": 12,
      "outputs": []
    },
    {
      "cell_type": "code",
      "metadata": {
        "id": "kjpaTfziJEwL",
        "colab_type": "code",
        "colab": {
          "base_uri": "https://localhost:8080/",
          "height": 34
        },
        "outputId": "adf91b50-30a6-4cef-804c-8e3ca7e5d71c"
      },
      "source": [
        "# predict the future price\n",
        "future_price = predict(model, data)\n",
        "print(f\"Future price after {LOOKUP_STEP} days is {future_price:.2f}$\")"
      ],
      "execution_count": 13,
      "outputs": [
        {
          "output_type": "stream",
          "text": [
            "Future price after 1 days is 418.10$\n"
          ],
          "name": "stdout"
        }
      ]
    },
    {
      "cell_type": "code",
      "metadata": {
        "id": "jNL7Uw3yJEzV",
        "colab_type": "code",
        "colab": {}
      },
      "source": [
        "def plot_graph(model, data):\n",
        "    y_test = data[\"y_test\"]\n",
        "    X_test = data[\"X_test\"]\n",
        "    y_pred = model.predict(X_test)\n",
        "    y_test = np.squeeze(data[\"column_scaler\"][\"adjclose\"].inverse_transform(np.expand_dims(y_test, axis=0)))\n",
        "    y_pred = np.squeeze(data[\"column_scaler\"][\"adjclose\"].inverse_transform(y_pred))\n",
        "    # last 200 days, feel free to edit that\n",
        "    plt.plot(y_test[-200:], c='b')\n",
        "    plt.plot(y_pred[-200:], c='r')\n",
        "    plt.xlabel(\"Days\")\n",
        "    plt.ylabel(\"Price\")\n",
        "    plt.legend([\"Actual Price\", \"Predicted Price\"])\n",
        "    plt.show()"
      ],
      "execution_count": 14,
      "outputs": []
    },
    {
      "cell_type": "code",
      "metadata": {
        "id": "mXOZJLGdJE2S",
        "colab_type": "code",
        "colab": {
          "base_uri": "https://localhost:8080/",
          "height": 279
        },
        "outputId": "592e19e2-9a54-43cf-c97c-80a367feb243"
      },
      "source": [
        "plot_graph(model, data)"
      ],
      "execution_count": 15,
      "outputs": [
        {
          "output_type": "display_data",
          "data": {
            "image/png": "[encoded data removed]",
            "text/plain": [
              "<Figure size 432x288 with 1 Axes>"
            ]
          },
          "metadata": {
            "tags": [],
            "needs_background": "light"
          }
        }
      ]
    },
    {
      "cell_type": "code",
      "metadata": {
        "id": "9GkuKm1JJRK7",
        "colab_type": "code",
        "colab": {}
      },
      "source": [
        "def get_accuracy(model, data):\n",
        "    y_test = data[\"y_test\"]\n",
        "    X_test = data[\"X_test\"]\n",
        "    y_pred = model.predict(X_test)\n",
        "    y_test = np.squeeze(data[\"column_scaler\"][\"adjclose\"].inverse_transform(np.expand_dims(y_test, axis=0)))\n",
        "    y_pred = np.squeeze(data[\"column_scaler\"][\"adjclose\"].inverse_transform(y_pred))\n",
        "    y_pred = list(map(lambda current, future: int(float(future) > float(current)), y_test[:-LOOKUP_STEP], y_pred[LOOKUP_STEP:]))\n",
        "    y_test = list(map(lambda current, future: int(float(future) > float(current)), y_test[:-LOOKUP_STEP], y_test[LOOKUP_STEP:]))\n",
        "    return accuracy_score(y_test, y_pred)"
      ],
      "execution_count": 16,
      "outputs": []
    },
    {
      "cell_type": "code",
      "metadata": {
        "id": "eftki4C0JRNz",
        "colab_type": "code",
        "colab": {
          "base_uri": "https://localhost:8080/",
          "height": 34
        },
        "outputId": "85cf5ada-4e3d-4906-d6d5-3cea521c1cc5"
      },
      "source": [
        "print(str(LOOKUP_STEP) + \":\", \"Accuracy Score:\", get_accuracy(model, data))"
      ],
      "execution_count": 17,
      "outputs": [
        {
          "output_type": "stream",
          "text": [
            "1: Accuracy Score: 0.5190380761523046\n"
          ],
          "name": "stdout"
        }
      ]
    },
    {
      "cell_type": "code",
      "metadata": {
        "id": "aFurwh0YJRQj",
        "colab_type": "code",
        "colab": {}
      },
      "source": [
        ""
      ],
      "execution_count": 17,
      "outputs": []
    },
    {
      "cell_type": "code",
      "metadata": {
        "id": "qh9QJm_ZJRTd",
        "colab_type": "code",
        "colab": {}
      },
      "source": [
        ""
      ],
      "execution_count": 17,
      "outputs": []
    },
    {
      "cell_type": "code",
      "metadata": {
        "id": "Llp_ZvUWJRWm",
        "colab_type": "code",
        "colab": {}
      },
      "source": [
        ""
      ],
      "execution_count": 17,
      "outputs": []
    }
  ]
}