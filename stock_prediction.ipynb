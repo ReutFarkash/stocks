{
  "nbformat": 4,
  "nbformat_minor": 0,
  "metadata": {
    "colab": {
      "name": "stock_prediction.ipynb",
      "provenance": [],
      "authorship_tag": "ABX9TyM/nChSjjvHVUcLk0VYsqEM",
      "include_colab_link": true
    },
    "kernelspec": {
      "name": "python3",
      "display_name": "Python 3"
    },
    "accelerator": "GPU"
  },
  "cells": [
    {
      "cell_type": "markdown",
      "metadata": {
        "id": "view-in-github",
        "colab_type": "text"
      },
      "source": [
        "<a href=\"https://colab.research.google.com/github/ReutFarkash/stocks/blob/master/stock_prediction.ipynb\" target=\"_parent\"><img src=\"https://colab.research.google.com/assets/colab-badge.svg\" alt=\"Open In Colab\"/></a>"
      ]
    },
    {
      "cell_type": "markdown",
      "metadata": {
        "id": "zhUGa2ImH-FP",
        "colab_type": "text"
      },
      "source": [
        "https://www.thepythoncode.com/article/stock-price-prediction-in-python-using-tensorflow-2-and-keras\n",
        "How to Predict Stock Prices in Python using TensorFlow 2 and Keras\n",
        "Predicting different stock prices using Long Short-Term Memory Recurrent Neural Network in Python using TensorFlow 2 and Keras."
      ]
    },
    {
      "cell_type": "code",
      "metadata": {
        "id": "rgC3L4tXHsZ6",
        "colab_type": "code",
        "colab": {
          "base_uri": "https://localhost:8080/",
          "height": 1000
        },
        "outputId": "1afd038b-5bcf-481c-e0c4-d465cb3c94b9"
      },
      "source": [
        "!pip3 install tensorflow pandas numpy matplotlib yahoo_fin sklearn requests_html"
      ],
      "execution_count": 1,
      "outputs": [
        {
          "output_type": "stream",
          "text": [
            "Requirement already satisfied: tensorflow in /usr/local/lib/python3.6/dist-packages (2.3.0)\n",
            "Requirement already satisfied: pandas in /usr/local/lib/python3.6/dist-packages (1.0.5)\n",
            "Requirement already satisfied: numpy in /usr/local/lib/python3.6/dist-packages (1.18.5)\n",
            "Requirement already satisfied: matplotlib in /usr/local/lib/python3.6/dist-packages (3.2.2)\n",
            "Requirement already satisfied: yahoo_fin in /usr/local/lib/python3.6/dist-packages (0.8.6)\n",
            "Requirement already satisfied: sklearn in /usr/local/lib/python3.6/dist-packages (0.0)\n",
            "Requirement already satisfied: requests_html in /usr/local/lib/python3.6/dist-packages (0.10.0)\n",
            "Requirement already satisfied: protobuf>=3.9.2 in /usr/local/lib/python3.6/dist-packages (from tensorflow) (3.12.4)\n",
            "Requirement already satisfied: tensorflow-estimator<2.4.0,>=2.3.0 in /usr/local/lib/python3.6/dist-packages (from tensorflow) (2.3.0)\n",
            "Requirement already satisfied: termcolor>=1.1.0 in /usr/local/lib/python3.6/dist-packages (from tensorflow) (1.1.0)\n",
            "Requirement already satisfied: keras-preprocessing<1.2,>=1.1.1 in /usr/local/lib/python3.6/dist-packages (from tensorflow) (1.1.2)\n",
            "Requirement already satisfied: scipy==1.4.1 in /usr/local/lib/python3.6/dist-packages (from tensorflow) (1.4.1)\n",
            "Requirement already satisfied: astunparse==1.6.3 in /usr/local/lib/python3.6/dist-packages (from tensorflow) (1.6.3)\n",
            "Requirement already satisfied: gast==0.3.3 in /usr/local/lib/python3.6/dist-packages (from tensorflow) (0.3.3)\n",
            "Requirement already satisfied: wrapt>=1.11.1 in /usr/local/lib/python3.6/dist-packages (from tensorflow) (1.12.1)\n",
            "Requirement already satisfied: h5py<2.11.0,>=2.10.0 in /usr/local/lib/python3.6/dist-packages (from tensorflow) (2.10.0)\n",
            "Requirement already satisfied: six>=1.12.0 in /usr/local/lib/python3.6/dist-packages (from tensorflow) (1.15.0)\n",
            "Requirement already satisfied: google-pasta>=0.1.8 in /usr/local/lib/python3.6/dist-packages (from tensorflow) (0.2.0)\n",
            "Requirement already satisfied: grpcio>=1.8.6 in /usr/local/lib/python3.6/dist-packages (from tensorflow) (1.31.0)\n",
            "Requirement already satisfied: absl-py>=0.7.0 in /usr/local/lib/python3.6/dist-packages (from tensorflow) (0.8.1)\n",
            "Requirement already satisfied: tensorboard<3,>=2.3.0 in /usr/local/lib/python3.6/dist-packages (from tensorflow) (2.3.0)\n",
            "Requirement already satisfied: wheel>=0.26 in /usr/local/lib/python3.6/dist-packages (from tensorflow) (0.35.1)\n",
            "Requirement already satisfied: opt-einsum>=2.3.2 in /usr/local/lib/python3.6/dist-packages (from tensorflow) (3.3.0)\n",
            "Requirement already satisfied: pytz>=2017.2 in /usr/local/lib/python3.6/dist-packages (from pandas) (2018.9)\n",
            "Requirement already satisfied: python-dateutil>=2.6.1 in /usr/local/lib/python3.6/dist-packages (from pandas) (2.8.1)\n",
            "Requirement already satisfied: cycler>=0.10 in /usr/local/lib/python3.6/dist-packages (from matplotlib) (0.10.0)\n",
            "Requirement already satisfied: pyparsing!=2.0.4,!=2.1.2,!=2.1.6,>=2.0.1 in /usr/local/lib/python3.6/dist-packages (from matplotlib) (2.4.7)\n",
            "Requirement already satisfied: kiwisolver>=1.0.1 in /usr/local/lib/python3.6/dist-packages (from matplotlib) (1.2.0)\n",
            "Requirement already satisfied: scikit-learn in /usr/local/lib/python3.6/dist-packages (from sklearn) (0.22.2.post1)\n",
            "Requirement already satisfied: requests in /usr/local/lib/python3.6/dist-packages (from requests_html) (2.23.0)\n",
            "Requirement already satisfied: bs4 in /usr/local/lib/python3.6/dist-packages (from requests_html) (0.0.1)\n",
            "Requirement already satisfied: pyppeteer>=0.0.14 in /usr/local/lib/python3.6/dist-packages (from requests_html) (0.2.2)\n",
            "Requirement already satisfied: w3lib in /usr/local/lib/python3.6/dist-packages (from requests_html) (1.22.0)\n",
            "Requirement already satisfied: fake-useragent in /usr/local/lib/python3.6/dist-packages (from requests_html) (0.1.11)\n",
            "Requirement already satisfied: pyquery in /usr/local/lib/python3.6/dist-packages (from requests_html) (1.4.1)\n",
            "Requirement already satisfied: parse in /usr/local/lib/python3.6/dist-packages (from requests_html) (1.17.0)\n",
            "Requirement already satisfied: setuptools in /usr/local/lib/python3.6/dist-packages (from protobuf>=3.9.2->tensorflow) (49.6.0)\n",
            "Requirement already satisfied: google-auth<2,>=1.6.3 in /usr/local/lib/python3.6/dist-packages (from tensorboard<3,>=2.3.0->tensorflow) (1.17.2)\n",
            "Requirement already satisfied: markdown>=2.6.8 in /usr/local/lib/python3.6/dist-packages (from tensorboard<3,>=2.3.0->tensorflow) (3.2.2)\n",
            "Requirement already satisfied: google-auth-oauthlib<0.5,>=0.4.1 in /usr/local/lib/python3.6/dist-packages (from tensorboard<3,>=2.3.0->tensorflow) (0.4.1)\n",
            "Requirement already satisfied: tensorboard-plugin-wit>=1.6.0 in /usr/local/lib/python3.6/dist-packages (from tensorboard<3,>=2.3.0->tensorflow) (1.7.0)\n",
            "Requirement already satisfied: werkzeug>=0.11.15 in /usr/local/lib/python3.6/dist-packages (from tensorboard<3,>=2.3.0->tensorflow) (1.0.1)\n",
            "Requirement already satisfied: joblib>=0.11 in /usr/local/lib/python3.6/dist-packages (from scikit-learn->sklearn) (0.16.0)\n",
            "Requirement already satisfied: idna<3,>=2.5 in /usr/local/lib/python3.6/dist-packages (from requests->requests_html) (2.10)\n",
            "Requirement already satisfied: urllib3!=1.25.0,!=1.25.1,<1.26,>=1.21.1 in /usr/local/lib/python3.6/dist-packages (from requests->requests_html) (1.25.10)\n",
            "Requirement already satisfied: chardet<4,>=3.0.2 in /usr/local/lib/python3.6/dist-packages (from requests->requests_html) (3.0.4)\n",
            "Requirement already satisfied: certifi>=2017.4.17 in /usr/local/lib/python3.6/dist-packages (from requests->requests_html) (2020.6.20)\n",
            "Requirement already satisfied: beautifulsoup4 in /usr/local/lib/python3.6/dist-packages (from bs4->requests_html) (4.6.3)\n",
            "Requirement already satisfied: tqdm<5.0.0,>=4.42.1 in /usr/local/lib/python3.6/dist-packages (from pyppeteer>=0.0.14->requests_html) (4.48.2)\n",
            "Requirement already satisfied: pyee<8.0.0,>=7.0.1 in /usr/local/lib/python3.6/dist-packages (from pyppeteer>=0.0.14->requests_html) (7.0.3)\n",
            "Requirement already satisfied: websockets<9.0,>=8.1 in /usr/local/lib/python3.6/dist-packages (from pyppeteer>=0.0.14->requests_html) (8.1)\n",
            "Requirement already satisfied: appdirs<2.0.0,>=1.4.3 in /usr/local/lib/python3.6/dist-packages (from pyppeteer>=0.0.14->requests_html) (1.4.4)\n",
            "Requirement already satisfied: lxml>=2.1 in /usr/local/lib/python3.6/dist-packages (from pyquery->requests_html) (4.2.6)\n",
            "Requirement already satisfied: cssselect>0.7.9 in /usr/local/lib/python3.6/dist-packages (from pyquery->requests_html) (1.1.0)\n",
            "Requirement already satisfied: pyasn1-modules>=0.2.1 in /usr/local/lib/python3.6/dist-packages (from google-auth<2,>=1.6.3->tensorboard<3,>=2.3.0->tensorflow) (0.2.8)\n",
            "Requirement already satisfied: rsa<5,>=3.1.4; python_version >= \"3\" in /usr/local/lib/python3.6/dist-packages (from google-auth<2,>=1.6.3->tensorboard<3,>=2.3.0->tensorflow) (4.6)\n",
            "Requirement already satisfied: cachetools<5.0,>=2.0.0 in /usr/local/lib/python3.6/dist-packages (from google-auth<2,>=1.6.3->tensorboard<3,>=2.3.0->tensorflow) (4.1.1)\n",
            "Requirement already satisfied: importlib-metadata; python_version < \"3.8\" in /usr/local/lib/python3.6/dist-packages (from markdown>=2.6.8->tensorboard<3,>=2.3.0->tensorflow) (1.7.0)\n",
            "Requirement already satisfied: requests-oauthlib>=0.7.0 in /usr/local/lib/python3.6/dist-packages (from google-auth-oauthlib<0.5,>=0.4.1->tensorboard<3,>=2.3.0->tensorflow) (1.3.0)\n",
            "Requirement already satisfied: pyasn1<0.5.0,>=0.4.6 in /usr/local/lib/python3.6/dist-packages (from pyasn1-modules>=0.2.1->google-auth<2,>=1.6.3->tensorboard<3,>=2.3.0->tensorflow) (0.4.8)\n",
            "Requirement already satisfied: zipp>=0.5 in /usr/local/lib/python3.6/dist-packages (from importlib-metadata; python_version < \"3.8\"->markdown>=2.6.8->tensorboard<3,>=2.3.0->tensorflow) (3.1.0)\n",
            "Requirement already satisfied: oauthlib>=3.0.0 in /usr/local/lib/python3.6/dist-packages (from requests-oauthlib>=0.7.0->google-auth-oauthlib<0.5,>=0.4.1->tensorboard<3,>=2.3.0->tensorflow) (3.1.0)\n"
          ],
          "name": "stdout"
        }
      ]
    },
    {
      "cell_type": "code",
      "metadata": {
        "id": "eIBaeIbGIDlp",
        "colab_type": "code",
        "colab": {}
      },
      "source": [
        "import tensorflow as tf\n",
        "from tensorflow.keras.models import Sequential\n",
        "from tensorflow.keras.layers import LSTM, Dense, Dropout, Bidirectional\n",
        "from tensorflow.keras.callbacks import ModelCheckpoint, TensorBoard\n",
        "from sklearn import preprocessing\n",
        "from sklearn.model_selection import train_test_split, TimeSeriesSplit\n",
        "from sklearn.metrics import accuracy_score\n",
        "from yahoo_fin import stock_info as si\n",
        "from collections import deque\n",
        "\n",
        "import numpy as np\n",
        "import pandas as pd\n",
        "import matplotlib.pyplot as plt\n",
        "import time\n",
        "import os\n",
        "import random"
      ],
      "execution_count": 2,
      "outputs": []
    },
    {
      "cell_type": "code",
      "metadata": {
        "id": "Zqb7QhuoITpJ",
        "colab_type": "code",
        "colab": {}
      },
      "source": [
        "# set seed, so we can get the same results after rerunning several times\n",
        "np.random.seed(314)\n",
        "tf.random.set_seed(314)\n",
        "random.seed(314)"
      ],
      "execution_count": 3,
      "outputs": []
    },
    {
      "cell_type": "code",
      "metadata": {
        "id": "61NhYlGcIf0R",
        "colab_type": "code",
        "colab": {}
      },
      "source": [
        "def load_data(ticker, n_steps=50, scale=True, shuffle=True, lookup_step=1, \n",
        "                test_size=0.2, feature_columns=['adjclose', 'volume', 'open', 'high', 'low']):\n",
        "    \"\"\"\n",
        "    Loads data from Yahoo Finance source, as well as scaling, shuffling, normalizing and splitting.\n",
        "    Params:\n",
        "        ticker (str/pd.DataFrame): the ticker you want to load, examples include AAPL, TESL, etc.\n",
        "        n_steps (int): the historical sequence length (i.e window size) used to predict, default is 50\n",
        "        scale (bool): whether to scale prices from 0 to 1, default is True\n",
        "        shuffle (bool): whether to shuffle the data, default is True\n",
        "        lookup_step (int): the future lookup step to predict, default is 1 (e.g next day)\n",
        "        test_size (float): ratio for test data, default is 0.2 (20% testing data)\n",
        "        feature_columns (list): the list of features to use to feed into the model, default is everything grabbed from yahoo_fin\n",
        "    \"\"\"\n",
        "    # see if ticker is already a loaded stock from yahoo finance\n",
        "    if isinstance(ticker, str):\n",
        "        # load it from yahoo_fin library\n",
        "        df = si.get_data(ticker)\n",
        "    elif isinstance(ticker, pd.DataFrame):\n",
        "        # already loaded, use it directly\n",
        "        df = ticker\n",
        "    else:\n",
        "        raise TypeError(\"ticker can be either a str or a `pd.DataFrame` instances\")\n",
        "    # this will contain all the elements we want to return from this function\n",
        "    result = {}\n",
        "    # we will also return the original dataframe itself\n",
        "    result['df'] = df.copy()\n",
        "    # make sure that the passed feature_columns exist in the dataframe\n",
        "    for col in feature_columns:\n",
        "        assert col in df.columns, f\"'{col}' does not exist in the dataframe.\"\n",
        "    # train / test (TimeSeries) split\n",
        "    train_df, test_df = np.split(df, [int(len(df)*0.7)])\n",
        "    if scale:\n",
        "        column_scaler = {}\n",
        "        # scale the data (prices) from 0 to 1\n",
        "        for column in feature_columns:\n",
        "            scaler = preprocessing.MinMaxScaler()\n",
        "            train_df[column] = scaler.fit_transform(np.expand_dims(train_df[column].values, axis=1))\n",
        "            test_df[column] = scaler.transform(np.expand_dims(test_df[column].values, axis=1))\n",
        "            column_scaler[column] = scaler\n",
        "        # add the MinMaxScaler instances to the result returned\n",
        "        result[\"column_scaler\"] = column_scaler\n",
        "    # add the target column (label) by shifting by `lookup_step`\n",
        "    train_df['future'] = train_df['adjclose'].shift(-lookup_step)\n",
        "    test_df['future'] = test_df['adjclose'].shift(-lookup_step)\n",
        "    # last `lookup_step` columns contains NaN in future column\n",
        "    # get them before droping NaNs\n",
        "    last_sequence_train = np.array(train_df[feature_columns].tail(lookup_step))\n",
        "    last_sequence_test = np.array(test_df[feature_columns].tail(lookup_step))\n",
        "    # drop NaNs\n",
        "    train_df.dropna(inplace=True)\n",
        "    sequence_data_train = []\n",
        "    sequences_train = deque(maxlen=n_steps)\n",
        "    for entry, target in zip(train_df[feature_columns].values, train_df['future'].values):\n",
        "        sequences_train.append(entry)\n",
        "        if len(sequences_train) == n_steps:\n",
        "            sequence_data_train.append([np.array(sequences_train), target])\n",
        "    test_df.dropna(inplace=True)\n",
        "    sequence_data_test = []\n",
        "    sequences_test = deque(maxlen=n_steps)\n",
        "    for entry, target in zip(test_df[feature_columns].values, test_df['future'].values):\n",
        "        sequences_test.append(entry)\n",
        "        if len(sequences_test) == n_steps:\n",
        "            sequence_data_test.append([np.array(sequences_test), target])\n",
        "    # get the last sequence by appending the last `n_step` sequence with `lookup_step` sequence\n",
        "    # for instance, if n_steps=50 and lookup_step=10, last_sequence should be of 60 (that is 50+10) length\n",
        "    # this last_sequence will be used to predict future stock prices not available in the dataset\n",
        "    last_sequence_train = list(sequences_train) + list(last_sequence_train)\n",
        "    last_sequence_train = np.array(last_sequence_train)\n",
        "    # add to result\n",
        "    result['last_sequence_train'] = last_sequence_train\n",
        "    last_sequence_test = list(sequences_test) + list(last_sequence_test)\n",
        "    last_sequence_test = np.array(last_sequence_test)\n",
        "    # add to result\n",
        "    result['last_sequence_test'] = last_sequence_test\n",
        "    # construct the X's and y's\n",
        "    X_train, y_train = [], []\n",
        "    for seq, target in sequence_data_train:\n",
        "        X_train.append(seq)\n",
        "        y_train.append(target)\n",
        "    # convert to numpy arrays\n",
        "    X_train = np.array(X_train)\n",
        "    y_train = np.array(y_train)\n",
        "    # reshape X to fit the neural network\n",
        "    X_train = X_train.reshape((X_train.shape[0], X_train.shape[2], X_train.shape[1]))\n",
        "    # construct the X's and y's\n",
        "    X_test, y_test = [], []\n",
        "    for seq, target in sequence_data_train:\n",
        "        X_test.append(seq)\n",
        "        y_test.append(target)\n",
        "    # convert to numpy arrays\n",
        "    X_test = np.array(X_test)\n",
        "    y_test = np.array(y_test)\n",
        "    # reshape X to fit the neural network\n",
        "    X_test = X_test.reshape((X_test.shape[0], X_test.shape[2], X_test.shape[1]))\n",
        "    # split the dataset\n",
        "    p = np.random.permutation(len(X_train))\n",
        "    X_train = X_train[p]\n",
        "    y_train = y_train[p]\n",
        "    #idx = np.random.permutation(X_train.index)\n",
        "    #X_train.reindex(idx, inplace=True)\n",
        "    #Y_train.reindex(idx, inplace=True)\n",
        "    result[\"X_train\"], result[\"X_test\"], result[\"y_train\"], result[\"y_test\"] = X_train, X_test, y_train, y_test\n",
        "    # return the result\n",
        "    return result"
      ],
      "execution_count": 4,
      "outputs": []
    },
    {
      "cell_type": "code",
      "metadata": {
        "id": "ym63baQlIgFq",
        "colab_type": "code",
        "colab": {}
      },
      "source": [
        "def create_model(sequence_length, units=256, cell=LSTM, n_layers=2, dropout=0.3,\n",
        "                loss=\"mean_absolute_error\", optimizer=\"rmsprop\", bidirectional=False):\n",
        "    model = Sequential()\n",
        "    for i in range(n_layers):\n",
        "        if i == 0:\n",
        "            # first layer\n",
        "            if bidirectional:\n",
        "                model.add(Bidirectional(cell(units, return_sequences=True), input_shape=(None, sequence_length)))\n",
        "            else:\n",
        "                model.add(cell(units, return_sequences=True, input_shape=(None, sequence_length)))\n",
        "        elif i == n_layers - 1:\n",
        "            # last layer\n",
        "            if bidirectional:\n",
        "                model.add(Bidirectional(cell(units, return_sequences=False)))\n",
        "            else:\n",
        "                model.add(cell(units, return_sequences=False))\n",
        "        else:\n",
        "            # hidden layers\n",
        "            if bidirectional:\n",
        "                model.add(Bidirectional(cell(units, return_sequences=True)))\n",
        "            else:\n",
        "                model.add(cell(units, return_sequences=True))\n",
        "        # add dropout after each layer\n",
        "        model.add(Dropout(dropout))\n",
        "    model.add(Dense(1, activation=\"linear\"))\n",
        "    model.compile(loss=loss, metrics=[\"mean_absolute_error\"], optimizer=optimizer)\n",
        "    return model"
      ],
      "execution_count": 5,
      "outputs": []
    },
    {
      "cell_type": "code",
      "metadata": {
        "id": "1O3Sr0ACIg0-",
        "colab_type": "code",
        "colab": {}
      },
      "source": [
        "# Window size or the sequence length\n",
        "N_STEPS = 70\n",
        "# Lookup step, 1 is the next day\n",
        "LOOKUP_STEP = 1\n",
        "# test ratio size, 0.2 is 20%\n",
        "TEST_SIZE = 0.2\n",
        "# features to use\n",
        "FEATURE_COLUMNS = [\"adjclose\", \"volume\", \"open\", \"high\", \"low\"]\n",
        "# date now\n",
        "date_now = time.strftime(\"%Y-%m-%d\")\n",
        "### model parameters\n",
        "N_LAYERS = 3\n",
        "# LSTM cell\n",
        "CELL = LSTM\n",
        "# 256 LSTM neurons\n",
        "UNITS = 256\n",
        "# 40% dropout\n",
        "DROPOUT = 0.4\n",
        "# whether to use bidirectional RNNs\n",
        "BIDIRECTIONAL = False\n",
        "### training parameters\n",
        "# mean absolute error loss\n",
        "# LOSS = \"mae\"\n",
        "# huber loss\n",
        "LOSS = \"huber_loss\"\n",
        "OPTIMIZER = \"adam\"\n",
        "BATCH_SIZE = 64\n",
        "EPOCHS = 50\n",
        "# Tesla stock market\n",
        "ticker = \"TSLA\"\n",
        "ticker_data_filename = os.path.join(\"data\", f\"{ticker}_{date_now}.csv\")\n",
        "# model name to save, making it as unique as possible based on parameters\n",
        "model_name = f\"{date_now}_{ticker}-{LOSS}-{OPTIMIZER}-{CELL.__name__}-seq-{N_STEPS}-step-{LOOKUP_STEP}-layers-{N_LAYERS}-units-{UNITS}\"\n",
        "if BIDIRECTIONAL:\n",
        "    model_name += \"-b\""
      ],
      "execution_count": 6,
      "outputs": []
    },
    {
      "cell_type": "code",
      "metadata": {
        "id": "4wCfD5gzIhAN",
        "colab_type": "code",
        "colab": {}
      },
      "source": [
        "# create these folders if they does not exist\n",
        "if not os.path.isdir(\"results\"):\n",
        "    os.mkdir(\"results\")\n",
        "if not os.path.isdir(\"logs\"):\n",
        "    os.mkdir(\"logs\")\n",
        "if not os.path.isdir(\"data\"):\n",
        "    os.mkdir(\"data\")"
      ],
      "execution_count": 7,
      "outputs": []
    },
    {
      "cell_type": "code",
      "metadata": {
        "id": "_wf8vzdbIhIY",
        "colab_type": "code",
        "colab": {
          "base_uri": "https://localhost:8080/",
          "height": 1000
        },
        "outputId": "0a5def4f-4288-40b7-ba7e-549b08c93ee7"
      },
      "source": [
        "# load the data\n",
        "data = load_data(ticker, N_STEPS, lookup_step=LOOKUP_STEP, test_size=TEST_SIZE, feature_columns=FEATURE_COLUMNS)\n",
        "# save the dataframe\n",
        "data[\"df\"].to_csv(ticker_data_filename)\n",
        "# construct the model\n",
        "model = create_model(N_STEPS, loss=LOSS, units=UNITS, cell=CELL, n_layers=N_LAYERS,\n",
        "                    dropout=DROPOUT, optimizer=OPTIMIZER, bidirectional=BIDIRECTIONAL)\n",
        "# some tensorflow callbacks\n",
        "checkpointer = ModelCheckpoint(os.path.join(\"results\", model_name + \".h5\"), save_weights_only=True, save_best_only=True, verbose=1)\n",
        "tensorboard = TensorBoard(log_dir=os.path.join(\"logs\", model_name))\n",
        "history = model.fit(data[\"X_train\"], data[\"y_train\"],\n",
        "                    batch_size=BATCH_SIZE,\n",
        "                    epochs=EPOCHS,\n",
        "                    validation_data=(data[\"X_test\"], data[\"y_test\"]),\n",
        "                    callbacks=[checkpointer, tensorboard],\n",
        "                    verbose=1)\n",
        "model.save(os.path.join(\"results\", model_name) + \".h5\")"
      ],
      "execution_count": 8,
      "outputs": [
        {
          "output_type": "stream",
          "text": [
            "Epoch 1/50\n",
            " 1/27 [>.............................] - ETA: 0s - loss: 0.1035 - mean_absolute_error: 0.3602WARNING:tensorflow:From /usr/local/lib/python3.6/dist-packages/tensorflow/python/ops/summary_ops_v2.py:1277: stop (from tensorflow.python.eager.profiler) is deprecated and will be removed after 2020-07-01.\n",
            "Instructions for updating:\n",
            "use `tf.profiler.experimental.stop` instead.\n",
            " 2/27 [=>............................] - ETA: 0s - loss: 0.0623 - mean_absolute_error: 0.2541WARNING:tensorflow:Callbacks method `on_train_batch_end` is slow compared to the batch time (batch time: 0.0139s vs `on_train_batch_end` time: 0.0600s). Check your callbacks.\n",
            "23/27 [========================>.....] - ETA: 0s - loss: 0.0122 - mean_absolute_error: 0.1061\n",
            "Epoch 00001: val_loss improved from inf to 0.00282, saving model to results/2020-09-05_TSLA-huber_loss-adam-LSTM-seq-70-step-1-layers-3-units-256.h5\n",
            "27/27 [==============================] - 1s 44ms/step - loss: 0.0110 - mean_absolute_error: 0.1001 - val_loss: 0.0028 - val_mean_absolute_error: 0.0548\n",
            "Epoch 2/50\n",
            "24/27 [=========================>....] - ETA: 0s - loss: 0.0038 - mean_absolute_error: 0.0598\n",
            "Epoch 00002: val_loss improved from 0.00282 to 0.00255, saving model to results/2020-09-05_TSLA-huber_loss-adam-LSTM-seq-70-step-1-layers-3-units-256.h5\n",
            "27/27 [==============================] - 0s 12ms/step - loss: 0.0038 - mean_absolute_error: 0.0600 - val_loss: 0.0025 - val_mean_absolute_error: 0.0484\n",
            "Epoch 3/50\n",
            "24/27 [=========================>....] - ETA: 0s - loss: 0.0033 - mean_absolute_error: 0.0556\n",
            "Epoch 00003: val_loss improved from 0.00255 to 0.00241, saving model to results/2020-09-05_TSLA-huber_loss-adam-LSTM-seq-70-step-1-layers-3-units-256.h5\n",
            "27/27 [==============================] - 0s 11ms/step - loss: 0.0033 - mean_absolute_error: 0.0554 - val_loss: 0.0024 - val_mean_absolute_error: 0.0470\n",
            "Epoch 4/50\n",
            "22/27 [=======================>......] - ETA: 0s - loss: 0.0035 - mean_absolute_error: 0.0566\n",
            "Epoch 00004: val_loss improved from 0.00241 to 0.00195, saving model to results/2020-09-05_TSLA-huber_loss-adam-LSTM-seq-70-step-1-layers-3-units-256.h5\n",
            "27/27 [==============================] - 0s 12ms/step - loss: 0.0033 - mean_absolute_error: 0.0555 - val_loss: 0.0020 - val_mean_absolute_error: 0.0434\n",
            "Epoch 5/50\n",
            "26/27 [===========================>..] - ETA: 0s - loss: 0.0029 - mean_absolute_error: 0.0518\n",
            "Epoch 00005: val_loss improved from 0.00195 to 0.00180, saving model to results/2020-09-05_TSLA-huber_loss-adam-LSTM-seq-70-step-1-layers-3-units-256.h5\n",
            "27/27 [==============================] - 0s 13ms/step - loss: 0.0028 - mean_absolute_error: 0.0516 - val_loss: 0.0018 - val_mean_absolute_error: 0.0434\n",
            "Epoch 6/50\n",
            "22/27 [=======================>......] - ETA: 0s - loss: 0.0027 - mean_absolute_error: 0.0502\n",
            "Epoch 00006: val_loss did not improve from 0.00180\n",
            "27/27 [==============================] - 0s 11ms/step - loss: 0.0027 - mean_absolute_error: 0.0503 - val_loss: 0.0020 - val_mean_absolute_error: 0.0415\n",
            "Epoch 7/50\n",
            "24/27 [=========================>....] - ETA: 0s - loss: 0.0027 - mean_absolute_error: 0.0500\n",
            "Epoch 00007: val_loss improved from 0.00180 to 0.00178, saving model to results/2020-09-05_TSLA-huber_loss-adam-LSTM-seq-70-step-1-layers-3-units-256.h5\n",
            "27/27 [==============================] - 0s 12ms/step - loss: 0.0026 - mean_absolute_error: 0.0494 - val_loss: 0.0018 - val_mean_absolute_error: 0.0436\n",
            "Epoch 8/50\n",
            "23/27 [========================>.....] - ETA: 0s - loss: 0.0025 - mean_absolute_error: 0.0478\n",
            "Epoch 00008: val_loss improved from 0.00178 to 0.00119, saving model to results/2020-09-05_TSLA-huber_loss-adam-LSTM-seq-70-step-1-layers-3-units-256.h5\n",
            "27/27 [==============================] - 0s 12ms/step - loss: 0.0024 - mean_absolute_error: 0.0466 - val_loss: 0.0012 - val_mean_absolute_error: 0.0343\n",
            "Epoch 9/50\n",
            "25/27 [==========================>...] - ETA: 0s - loss: 0.0023 - mean_absolute_error: 0.0454\n",
            "Epoch 00009: val_loss improved from 0.00119 to 0.00113, saving model to results/2020-09-05_TSLA-huber_loss-adam-LSTM-seq-70-step-1-layers-3-units-256.h5\n",
            "27/27 [==============================] - 0s 11ms/step - loss: 0.0023 - mean_absolute_error: 0.0455 - val_loss: 0.0011 - val_mean_absolute_error: 0.0337\n",
            "Epoch 10/50\n",
            "23/27 [========================>.....] - ETA: 0s - loss: 0.0017 - mean_absolute_error: 0.0399\n",
            "Epoch 00010: val_loss improved from 0.00113 to 0.00097, saving model to results/2020-09-05_TSLA-huber_loss-adam-LSTM-seq-70-step-1-layers-3-units-256.h5\n",
            "27/27 [==============================] - 0s 12ms/step - loss: 0.0017 - mean_absolute_error: 0.0398 - val_loss: 9.6634e-04 - val_mean_absolute_error: 0.0299\n",
            "Epoch 11/50\n",
            "25/27 [==========================>...] - ETA: 0s - loss: 0.0016 - mean_absolute_error: 0.0383\n",
            "Epoch 00011: val_loss improved from 0.00097 to 0.00089, saving model to results/2020-09-05_TSLA-huber_loss-adam-LSTM-seq-70-step-1-layers-3-units-256.h5\n",
            "27/27 [==============================] - 0s 12ms/step - loss: 0.0016 - mean_absolute_error: 0.0381 - val_loss: 8.8580e-04 - val_mean_absolute_error: 0.0283\n",
            "Epoch 12/50\n",
            "21/27 [======================>.......] - ETA: 0s - loss: 0.0015 - mean_absolute_error: 0.0362\n",
            "Epoch 00012: val_loss improved from 0.00089 to 0.00073, saving model to results/2020-09-05_TSLA-huber_loss-adam-LSTM-seq-70-step-1-layers-3-units-256.h5\n",
            "27/27 [==============================] - 0s 13ms/step - loss: 0.0015 - mean_absolute_error: 0.0365 - val_loss: 7.2660e-04 - val_mean_absolute_error: 0.0261\n",
            "Epoch 13/50\n",
            "25/27 [==========================>...] - ETA: 0s - loss: 0.0015 - mean_absolute_error: 0.0367\n",
            "Epoch 00013: val_loss improved from 0.00073 to 0.00068, saving model to results/2020-09-05_TSLA-huber_loss-adam-LSTM-seq-70-step-1-layers-3-units-256.h5\n",
            "27/27 [==============================] - 1s 21ms/step - loss: 0.0015 - mean_absolute_error: 0.0365 - val_loss: 6.7980e-04 - val_mean_absolute_error: 0.0255\n",
            "Epoch 14/50\n",
            "23/27 [========================>.....] - ETA: 0s - loss: 0.0015 - mean_absolute_error: 0.0372\n",
            "Epoch 00014: val_loss did not improve from 0.00068\n",
            "27/27 [==============================] - 0s 11ms/step - loss: 0.0015 - mean_absolute_error: 0.0372 - val_loss: 6.9222e-04 - val_mean_absolute_error: 0.0255\n",
            "Epoch 15/50\n",
            "24/27 [=========================>....] - ETA: 0s - loss: 0.0013 - mean_absolute_error: 0.0335\n",
            "Epoch 00015: val_loss improved from 0.00068 to 0.00046, saving model to results/2020-09-05_TSLA-huber_loss-adam-LSTM-seq-70-step-1-layers-3-units-256.h5\n",
            "27/27 [==============================] - 0s 12ms/step - loss: 0.0012 - mean_absolute_error: 0.0333 - val_loss: 4.6199e-04 - val_mean_absolute_error: 0.0210\n",
            "Epoch 16/50\n",
            "25/27 [==========================>...] - ETA: 0s - loss: 0.0013 - mean_absolute_error: 0.0340\n",
            "Epoch 00016: val_loss did not improve from 0.00046\n",
            "27/27 [==============================] - 0s 10ms/step - loss: 0.0013 - mean_absolute_error: 0.0345 - val_loss: 0.0012 - val_mean_absolute_error: 0.0354\n",
            "Epoch 17/50\n",
            "24/27 [=========================>....] - ETA: 0s - loss: 0.0016 - mean_absolute_error: 0.0383\n",
            "Epoch 00017: val_loss did not improve from 0.00046\n",
            "27/27 [==============================] - 0s 11ms/step - loss: 0.0016 - mean_absolute_error: 0.0380 - val_loss: 9.3129e-04 - val_mean_absolute_error: 0.0300\n",
            "Epoch 18/50\n",
            "24/27 [=========================>....] - ETA: 0s - loss: 0.0011 - mean_absolute_error: 0.0310\n",
            "Epoch 00018: val_loss did not improve from 0.00046\n",
            "27/27 [==============================] - 0s 11ms/step - loss: 0.0011 - mean_absolute_error: 0.0311 - val_loss: 4.9133e-04 - val_mean_absolute_error: 0.0216\n",
            "Epoch 19/50\n",
            "24/27 [=========================>....] - ETA: 0s - loss: 0.0012 - mean_absolute_error: 0.0331\n",
            "Epoch 00019: val_loss improved from 0.00046 to 0.00042, saving model to results/2020-09-05_TSLA-huber_loss-adam-LSTM-seq-70-step-1-layers-3-units-256.h5\n",
            "27/27 [==============================] - 0s 11ms/step - loss: 0.0012 - mean_absolute_error: 0.0329 - val_loss: 4.2183e-04 - val_mean_absolute_error: 0.0199\n",
            "Epoch 20/50\n",
            "24/27 [=========================>....] - ETA: 0s - loss: 0.0010 - mean_absolute_error: 0.0306\n",
            "Epoch 00020: val_loss improved from 0.00042 to 0.00029, saving model to results/2020-09-05_TSLA-huber_loss-adam-LSTM-seq-70-step-1-layers-3-units-256.h5\n",
            "27/27 [==============================] - 0s 12ms/step - loss: 0.0010 - mean_absolute_error: 0.0304 - val_loss: 2.9219e-04 - val_mean_absolute_error: 0.0166\n",
            "Epoch 21/50\n",
            "25/27 [==========================>...] - ETA: 0s - loss: 0.0011 - mean_absolute_error: 0.0310\n",
            "Epoch 00021: val_loss improved from 0.00029 to 0.00027, saving model to results/2020-09-05_TSLA-huber_loss-adam-LSTM-seq-70-step-1-layers-3-units-256.h5\n",
            "27/27 [==============================] - 0s 11ms/step - loss: 0.0011 - mean_absolute_error: 0.0309 - val_loss: 2.7084e-04 - val_mean_absolute_error: 0.0160\n",
            "Epoch 22/50\n",
            "23/27 [========================>.....] - ETA: 0s - loss: 0.0011 - mean_absolute_error: 0.0316\n",
            "Epoch 00022: val_loss did not improve from 0.00027\n",
            "27/27 [==============================] - 0s 11ms/step - loss: 0.0011 - mean_absolute_error: 0.0316 - val_loss: 7.7903e-04 - val_mean_absolute_error: 0.0284\n",
            "Epoch 23/50\n",
            "25/27 [==========================>...] - ETA: 0s - loss: 9.9909e-04 - mean_absolute_error: 0.0299\n",
            "Epoch 00023: val_loss did not improve from 0.00027\n",
            "27/27 [==============================] - 0s 11ms/step - loss: 9.7959e-04 - mean_absolute_error: 0.0296 - val_loss: 3.0680e-04 - val_mean_absolute_error: 0.0175\n",
            "Epoch 24/50\n",
            "22/27 [=======================>......] - ETA: 0s - loss: 8.6060e-04 - mean_absolute_error: 0.0283\n",
            "Epoch 00024: val_loss did not improve from 0.00027\n",
            "27/27 [==============================] - 0s 11ms/step - loss: 9.2114e-04 - mean_absolute_error: 0.0292 - val_loss: 8.4555e-04 - val_mean_absolute_error: 0.0291\n",
            "Epoch 25/50\n",
            "25/27 [==========================>...] - ETA: 0s - loss: 0.0010 - mean_absolute_error: 0.0303    \n",
            "Epoch 00025: val_loss did not improve from 0.00027\n",
            "27/27 [==============================] - 0s 11ms/step - loss: 0.0010 - mean_absolute_error: 0.0305 - val_loss: 4.2775e-04 - val_mean_absolute_error: 0.0203\n",
            "Epoch 26/50\n",
            "25/27 [==========================>...] - ETA: 0s - loss: 9.1914e-04 - mean_absolute_error: 0.0292\n",
            "Epoch 00026: val_loss did not improve from 0.00027\n",
            "27/27 [==============================] - 0s 11ms/step - loss: 8.9477e-04 - mean_absolute_error: 0.0288 - val_loss: 3.8476e-04 - val_mean_absolute_error: 0.0190\n",
            "Epoch 27/50\n",
            "24/27 [=========================>....] - ETA: 0s - loss: 7.8213e-04 - mean_absolute_error: 0.0265\n",
            "Epoch 00027: val_loss improved from 0.00027 to 0.00024, saving model to results/2020-09-05_TSLA-huber_loss-adam-LSTM-seq-70-step-1-layers-3-units-256.h5\n",
            "27/27 [==============================] - 0s 12ms/step - loss: 7.7566e-04 - mean_absolute_error: 0.0265 - val_loss: 2.4100e-04 - val_mean_absolute_error: 0.0150\n",
            "Epoch 28/50\n",
            "25/27 [==========================>...] - ETA: 0s - loss: 8.2345e-04 - mean_absolute_error: 0.0274\n",
            "Epoch 00028: val_loss improved from 0.00024 to 0.00024, saving model to results/2020-09-05_TSLA-huber_loss-adam-LSTM-seq-70-step-1-layers-3-units-256.h5\n",
            "27/27 [==============================] - 0s 11ms/step - loss: 8.4356e-04 - mean_absolute_error: 0.0278 - val_loss: 2.3574e-04 - val_mean_absolute_error: 0.0151\n",
            "Epoch 29/50\n",
            "24/27 [=========================>....] - ETA: 0s - loss: 8.5186e-04 - mean_absolute_error: 0.0279\n",
            "Epoch 00029: val_loss improved from 0.00024 to 0.00022, saving model to results/2020-09-05_TSLA-huber_loss-adam-LSTM-seq-70-step-1-layers-3-units-256.h5\n",
            "27/27 [==============================] - 0s 16ms/step - loss: 8.2886e-04 - mean_absolute_error: 0.0275 - val_loss: 2.2227e-04 - val_mean_absolute_error: 0.0151\n",
            "Epoch 30/50\n",
            "25/27 [==========================>...] - ETA: 0s - loss: 8.2191e-04 - mean_absolute_error: 0.0271\n",
            "Epoch 00030: val_loss did not improve from 0.00022\n",
            "27/27 [==============================] - 0s 11ms/step - loss: 8.1584e-04 - mean_absolute_error: 0.0270 - val_loss: 2.2570e-04 - val_mean_absolute_error: 0.0149\n",
            "Epoch 31/50\n",
            "23/27 [========================>.....] - ETA: 0s - loss: 7.7543e-04 - mean_absolute_error: 0.0272\n",
            "Epoch 00031: val_loss did not improve from 0.00022\n",
            "27/27 [==============================] - 0s 11ms/step - loss: 7.5863e-04 - mean_absolute_error: 0.0269 - val_loss: 2.9479e-04 - val_mean_absolute_error: 0.0170\n",
            "Epoch 32/50\n",
            "25/27 [==========================>...] - ETA: 0s - loss: 7.9303e-04 - mean_absolute_error: 0.0268\n",
            "Epoch 00032: val_loss improved from 0.00022 to 0.00022, saving model to results/2020-09-05_TSLA-huber_loss-adam-LSTM-seq-70-step-1-layers-3-units-256.h5\n",
            "27/27 [==============================] - 0s 12ms/step - loss: 7.7895e-04 - mean_absolute_error: 0.0265 - val_loss: 2.1805e-04 - val_mean_absolute_error: 0.0145\n",
            "Epoch 33/50\n",
            "22/27 [=======================>......] - ETA: 0s - loss: 6.8951e-04 - mean_absolute_error: 0.0255\n",
            "Epoch 00033: val_loss improved from 0.00022 to 0.00020, saving model to results/2020-09-05_TSLA-huber_loss-adam-LSTM-seq-70-step-1-layers-3-units-256.h5\n",
            "27/27 [==============================] - 0s 12ms/step - loss: 7.2552e-04 - mean_absolute_error: 0.0260 - val_loss: 2.0400e-04 - val_mean_absolute_error: 0.0141\n",
            "Epoch 34/50\n",
            "26/27 [===========================>..] - ETA: 0s - loss: 7.7742e-04 - mean_absolute_error: 0.0268\n",
            "Epoch 00034: val_loss did not improve from 0.00020\n",
            "27/27 [==============================] - 0s 13ms/step - loss: 7.8376e-04 - mean_absolute_error: 0.0268 - val_loss: 2.7796e-04 - val_mean_absolute_error: 0.0161\n",
            "Epoch 35/50\n",
            "27/27 [==============================] - ETA: 0s - loss: 6.7139e-04 - mean_absolute_error: 0.0247\n",
            "Epoch 00035: val_loss did not improve from 0.00020\n",
            "27/27 [==============================] - 0s 13ms/step - loss: 6.7139e-04 - mean_absolute_error: 0.0247 - val_loss: 2.2055e-04 - val_mean_absolute_error: 0.0146\n",
            "Epoch 36/50\n",
            "22/27 [=======================>......] - ETA: 0s - loss: 7.0527e-04 - mean_absolute_error: 0.0252\n",
            "Epoch 00036: val_loss did not improve from 0.00020\n",
            "27/27 [==============================] - 0s 12ms/step - loss: 6.9980e-04 - mean_absolute_error: 0.0255 - val_loss: 2.1516e-04 - val_mean_absolute_error: 0.0145\n",
            "Epoch 37/50\n",
            "25/27 [==========================>...] - ETA: 0s - loss: 7.0554e-04 - mean_absolute_error: 0.0256\n",
            "Epoch 00037: val_loss did not improve from 0.00020\n",
            "27/27 [==============================] - 0s 14ms/step - loss: 7.0470e-04 - mean_absolute_error: 0.0256 - val_loss: 2.2192e-04 - val_mean_absolute_error: 0.0146\n",
            "Epoch 38/50\n",
            "25/27 [==========================>...] - ETA: 0s - loss: 6.5750e-04 - mean_absolute_error: 0.0251\n",
            "Epoch 00038: val_loss did not improve from 0.00020\n",
            "27/27 [==============================] - 0s 12ms/step - loss: 6.9191e-04 - mean_absolute_error: 0.0256 - val_loss: 2.2256e-04 - val_mean_absolute_error: 0.0153\n",
            "Epoch 39/50\n",
            "26/27 [===========================>..] - ETA: 0s - loss: 8.2918e-04 - mean_absolute_error: 0.0281\n",
            "Epoch 00039: val_loss improved from 0.00020 to 0.00020, saving model to results/2020-09-05_TSLA-huber_loss-adam-LSTM-seq-70-step-1-layers-3-units-256.h5\n",
            "27/27 [==============================] - 0s 13ms/step - loss: 8.2282e-04 - mean_absolute_error: 0.0280 - val_loss: 2.0142e-04 - val_mean_absolute_error: 0.0137\n",
            "Epoch 40/50\n",
            "26/27 [===========================>..] - ETA: 0s - loss: 6.7363e-04 - mean_absolute_error: 0.0252\n",
            "Epoch 00040: val_loss did not improve from 0.00020\n",
            "27/27 [==============================] - 0s 13ms/step - loss: 6.7315e-04 - mean_absolute_error: 0.0252 - val_loss: 2.4462e-04 - val_mean_absolute_error: 0.0156\n",
            "Epoch 41/50\n",
            "27/27 [==============================] - ETA: 0s - loss: 8.8056e-04 - mean_absolute_error: 0.0281\n",
            "Epoch 00041: val_loss improved from 0.00020 to 0.00019, saving model to results/2020-09-05_TSLA-huber_loss-adam-LSTM-seq-70-step-1-layers-3-units-256.h5\n",
            "27/27 [==============================] - 0s 13ms/step - loss: 8.8056e-04 - mean_absolute_error: 0.0281 - val_loss: 1.9200e-04 - val_mean_absolute_error: 0.0138\n",
            "Epoch 42/50\n",
            "25/27 [==========================>...] - ETA: 0s - loss: 8.8237e-04 - mean_absolute_error: 0.0286\n",
            "Epoch 00042: val_loss did not improve from 0.00019\n",
            "27/27 [==============================] - 0s 10ms/step - loss: 8.7976e-04 - mean_absolute_error: 0.0286 - val_loss: 7.0897e-04 - val_mean_absolute_error: 0.0274\n",
            "Epoch 43/50\n",
            "25/27 [==========================>...] - ETA: 0s - loss: 7.0852e-04 - mean_absolute_error: 0.0260\n",
            "Epoch 00043: val_loss did not improve from 0.00019\n",
            "27/27 [==============================] - 0s 11ms/step - loss: 7.0450e-04 - mean_absolute_error: 0.0259 - val_loss: 2.5351e-04 - val_mean_absolute_error: 0.0156\n",
            "Epoch 44/50\n",
            "25/27 [==========================>...] - ETA: 0s - loss: 7.1667e-04 - mean_absolute_error: 0.0261\n",
            "Epoch 00044: val_loss did not improve from 0.00019\n",
            "27/27 [==============================] - 0s 11ms/step - loss: 7.0446e-04 - mean_absolute_error: 0.0260 - val_loss: 2.3919e-04 - val_mean_absolute_error: 0.0158\n",
            "Epoch 45/50\n",
            "24/27 [=========================>....] - ETA: 0s - loss: 6.2569e-04 - mean_absolute_error: 0.0247\n",
            "Epoch 00045: val_loss did not improve from 0.00019\n",
            "27/27 [==============================] - 0s 11ms/step - loss: 6.4018e-04 - mean_absolute_error: 0.0250 - val_loss: 2.7838e-04 - val_mean_absolute_error: 0.0168\n",
            "Epoch 46/50\n",
            "25/27 [==========================>...] - ETA: 0s - loss: 6.6389e-04 - mean_absolute_error: 0.0249\n",
            "Epoch 00046: val_loss did not improve from 0.00019\n",
            "27/27 [==============================] - 0s 10ms/step - loss: 6.6006e-04 - mean_absolute_error: 0.0248 - val_loss: 1.9861e-04 - val_mean_absolute_error: 0.0144\n",
            "Epoch 47/50\n",
            "24/27 [=========================>....] - ETA: 0s - loss: 6.0541e-04 - mean_absolute_error: 0.0237\n",
            "Epoch 00047: val_loss improved from 0.00019 to 0.00019, saving model to results/2020-09-05_TSLA-huber_loss-adam-LSTM-seq-70-step-1-layers-3-units-256.h5\n",
            "27/27 [==============================] - 0s 12ms/step - loss: 5.8284e-04 - mean_absolute_error: 0.0234 - val_loss: 1.9091e-04 - val_mean_absolute_error: 0.0136\n",
            "Epoch 48/50\n",
            "24/27 [=========================>....] - ETA: 0s - loss: 5.8086e-04 - mean_absolute_error: 0.0233\n",
            "Epoch 00048: val_loss improved from 0.00019 to 0.00018, saving model to results/2020-09-05_TSLA-huber_loss-adam-LSTM-seq-70-step-1-layers-3-units-256.h5\n",
            "27/27 [==============================] - 0s 12ms/step - loss: 6.0234e-04 - mean_absolute_error: 0.0236 - val_loss: 1.8414e-04 - val_mean_absolute_error: 0.0136\n",
            "Epoch 49/50\n",
            "25/27 [==========================>...] - ETA: 0s - loss: 6.1331e-04 - mean_absolute_error: 0.0238\n",
            "Epoch 00049: val_loss did not improve from 0.00018\n",
            "27/27 [==============================] - 0s 11ms/step - loss: 6.0707e-04 - mean_absolute_error: 0.0237 - val_loss: 1.9849e-04 - val_mean_absolute_error: 0.0142\n",
            "Epoch 50/50\n",
            "24/27 [=========================>....] - ETA: 0s - loss: 6.0300e-04 - mean_absolute_error: 0.0244\n",
            "Epoch 00050: val_loss did not improve from 0.00018\n",
            "27/27 [==============================] - 0s 11ms/step - loss: 5.9891e-04 - mean_absolute_error: 0.0244 - val_loss: 2.5734e-04 - val_mean_absolute_error: 0.0163\n"
          ],
          "name": "stdout"
        }
      ]
    },
    {
      "cell_type": "code",
      "metadata": {
        "id": "SqsXVKByIhL0",
        "colab_type": "code",
        "colab": {}
      },
      "source": [
        "#tensorboard --logdir=\"logs\""
      ],
      "execution_count": 9,
      "outputs": []
    },
    {
      "cell_type": "code",
      "metadata": {
        "id": "TtuACy80Ifls",
        "colab_type": "code",
        "colab": {}
      },
      "source": [
        "data = load_data(ticker, N_STEPS, lookup_step=LOOKUP_STEP, test_size=TEST_SIZE,\n",
        "                feature_columns=FEATURE_COLUMNS, shuffle=False)\n",
        "# construct the model\n",
        "model = create_model(N_STEPS, loss=LOSS, units=UNITS, cell=CELL, n_layers=N_LAYERS,\n",
        "                    dropout=DROPOUT, optimizer=OPTIMIZER, bidirectional=BIDIRECTIONAL)\n",
        "model_path = os.path.join(\"results\", model_name) + \".h5\"\n",
        "model.load_weights(model_path)"
      ],
      "execution_count": 10,
      "outputs": []
    },
    {
      "cell_type": "code",
      "metadata": {
        "id": "3WktsruRJEqE",
        "colab_type": "code",
        "colab": {
          "base_uri": "https://localhost:8080/",
          "height": 34
        },
        "outputId": "87fe6e29-3215-45d0-d7de-c84591e03f90"
      },
      "source": [
        "# evaluate the model\n",
        "mse, mae = model.evaluate(data[\"X_test\"], data[\"y_test\"], verbose=0)\n",
        "# calculate the mean absolute error (inverse scaling)\n",
        "mean_absolute_error = data[\"column_scaler\"][\"adjclose\"].inverse_transform([[mae]])[0][0]\n",
        "print(\"Mean Absolute Error:\", mean_absolute_error)"
      ],
      "execution_count": 11,
      "outputs": [
        {
          "output_type": "stream",
          "text": [
            "Mean Absolute Error: 4.355269626299664\n"
          ],
          "name": "stdout"
        }
      ]
    },
    {
      "cell_type": "code",
      "metadata": {
        "id": "h8bOVCc8JEtN",
        "colab_type": "code",
        "colab": {}
      },
      "source": [
        "def predict(model, data, on='_train'):\n",
        "    # retrieve the last sequence from data\n",
        "    last_sequence = data[\"last_sequence\" + on][-N_STEPS:]\n",
        "    # retrieve the column scalers\n",
        "    column_scaler = data[\"column_scaler\"]\n",
        "    # reshape the last sequence\n",
        "    last_sequence = last_sequence.reshape((last_sequence.shape[1], last_sequence.shape[0]))\n",
        "    # expand dimension\n",
        "    last_sequence = np.expand_dims(last_sequence, axis=0)\n",
        "    # get the prediction (scaled from 0 to 1)\n",
        "    prediction = model.predict(last_sequence)\n",
        "    # get the price (by inverting the scaling)\n",
        "    predicted_price = column_scaler[\"adjclose\"].inverse_transform(prediction)[0][0]\n",
        "    return predicted_price"
      ],
      "execution_count": 14,
      "outputs": []
    },
    {
      "cell_type": "code",
      "metadata": {
        "id": "kjpaTfziJEwL",
        "colab_type": "code",
        "colab": {
          "base_uri": "https://localhost:8080/",
          "height": 34
        },
        "outputId": "b155642f-5825-4984-838f-5bbadc91f5c6"
      },
      "source": [
        "# predict the future price\n",
        "future_price = predict(model, data)\n",
        "print(f\"Future price after {LOOKUP_STEP} days is {future_price:.2f}$\")"
      ],
      "execution_count": 15,
      "outputs": [
        {
          "output_type": "stream",
          "text": [
            "Future price after 1 days is 71.73$\n"
          ],
          "name": "stdout"
        }
      ]
    },
    {
      "cell_type": "code",
      "metadata": {
        "id": "jNL7Uw3yJEzV",
        "colab_type": "code",
        "colab": {}
      },
      "source": [
        "def plot_graph(model, data):\n",
        "    y_test = data[\"y_test\"]\n",
        "    X_test = data[\"X_test\"]\n",
        "    y_pred = model.predict(X_test)\n",
        "    y_test = np.squeeze(data[\"column_scaler\"][\"adjclose\"].inverse_transform(np.expand_dims(y_test, axis=0)))\n",
        "    y_pred = np.squeeze(data[\"column_scaler\"][\"adjclose\"].inverse_transform(y_pred))\n",
        "    # last 200 days, feel free to edit that\n",
        "    plt.plot(y_test[-200:], c='b')\n",
        "    plt.plot(y_pred[-200:], c='r')\n",
        "    plt.xlabel(\"Days\")\n",
        "    plt.ylabel(\"Price\")\n",
        "    plt.legend([\"Actual Price\", \"Predicted Price\"])\n",
        "    plt.show()"
      ],
      "execution_count": 16,
      "outputs": []
    },
    {
      "cell_type": "code",
      "metadata": {
        "id": "mXOZJLGdJE2S",
        "colab_type": "code",
        "colab": {
          "base_uri": "https://localhost:8080/",
          "height": 279
        },
        "outputId": "c0edec56-5341-48d3-e187-56afa1790000"
      },
      "source": [
        "plot_graph(model, data)"
      ],
      "execution_count": 17,
      "outputs": [
        {
          "output_type": "display_data",
          "data": {
            "image/png": "[encoded data removed]",
            "text/plain": [
              "<Figure size 432x288 with 1 Axes>"
            ]
          },
          "metadata": {
            "tags": [],
            "needs_background": "light"
          }
        }
      ]
    },
    {
      "cell_type": "code",
      "metadata": {
        "id": "9GkuKm1JJRK7",
        "colab_type": "code",
        "colab": {}
      },
      "source": [
        "def get_accuracy(model, data):\n",
        "    y_test = data[\"y_test\"]\n",
        "    X_test = data[\"X_test\"]\n",
        "    y_pred = model.predict(X_test)\n",
        "    y_test = np.squeeze(data[\"column_scaler\"][\"adjclose\"].inverse_transform(np.expand_dims(y_test, axis=0)))\n",
        "    y_pred = np.squeeze(data[\"column_scaler\"][\"adjclose\"].inverse_transform(y_pred))\n",
        "    y_pred = list(map(lambda current, future: int(float(future) > float(current)), y_test[:-LOOKUP_STEP], y_pred[LOOKUP_STEP:]))\n",
        "    y_test = list(map(lambda current, future: int(float(future) > float(current)), y_test[:-LOOKUP_STEP], y_test[LOOKUP_STEP:]))\n",
        "    return accuracy_score(y_test, y_pred)"
      ],
      "execution_count": 18,
      "outputs": []
    },
    {
      "cell_type": "code",
      "metadata": {
        "id": "eftki4C0JRNz",
        "colab_type": "code",
        "colab": {
          "base_uri": "https://localhost:8080/",
          "height": 34
        },
        "outputId": "799e77fb-7d19-497f-f2eb-5c7f7a245165"
      },
      "source": [
        "print(str(LOOKUP_STEP) + \":\", \"Accuracy Score:\", get_accuracy(model, data))"
      ],
      "execution_count": 19,
      "outputs": [
        {
          "output_type": "stream",
          "text": [
            "1: Accuracy Score: 0.504927536231884\n"
          ],
          "name": "stdout"
        }
      ]
    },
    {
      "cell_type": "code",
      "metadata": {
        "id": "aFurwh0YJRQj",
        "colab_type": "code",
        "colab": {}
      },
      "source": [
        ""
      ],
      "execution_count": null,
      "outputs": []
    },
    {
      "cell_type": "code",
      "metadata": {
        "id": "qh9QJm_ZJRTd",
        "colab_type": "code",
        "colab": {}
      },
      "source": [
        ""
      ],
      "execution_count": null,
      "outputs": []
    },
    {
      "cell_type": "code",
      "metadata": {
        "id": "Llp_ZvUWJRWm",
        "colab_type": "code",
        "colab": {}
      },
      "source": [
        ""
      ],
      "execution_count": null,
      "outputs": []
    }
  ]
}